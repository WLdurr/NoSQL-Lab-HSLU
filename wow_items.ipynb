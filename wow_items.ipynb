{
 "cells": [
  {
   "cell_type": "markdown",
   "id": "f4aeacb9404d11ad",
   "metadata": {},
   "source": [
    "# World of Warcraft - Wrath of the Lich King\n",
    "\n",
    "## An in-depth item analysis\n",
    "![WOTLK_logo](./images/wotlklogo.png)\n",
    "\n",
    "$$\n",
    "\\textbf{\\text{Author:}}\n",
    "$$\n",
    "$\\linebreak$\n",
    "$$\n",
    "\\text{Stefan Durrer}\n",
    "$$"
   ]
  },
  {
   "cell_type": "markdown",
   "id": "448ac60cba7eae26",
   "metadata": {},
   "source": [
    "# Table of Contents\n",
    "- [1 Summary](#1-summary)\n",
    "- [2 Introduction](#2-introduction)\n",
    "    - [2.1 WoW related terminology](##2-1-wow-related-terminology)\n",
    "- [3 Requirements and Configurations](#3-requirements-and-configurations)\n",
    "- [4 ELT Process](#4-elt-process)\n",
    "    - [4.1 Database Connection](##4-1-database-connection)\n",
    "    - [4.2 Extract](##4-2-extract)\n",
    "    - [4.2.1 Definition of the extraction function](###4-2-1-definition-of-the-extract-function)\n",
    "    - [4.2.2 Data Quality Checks](###4-2-2-data-quality-checks)\n",
    "    - [4.3 Load](##4-3-load)\n",
    "    - [4.4 Transform](##4-4-transform)\n",
    "- [5 Data Analysis](#5-data-analysis)\n",
    "- [6 Conclusion](#6-conclusion)\n",
    "- [7 Lessons Learned](#7-lessons-learned)\n",
    "\n",
    "$\\pagebreak$"
   ]
  },
  {
   "cell_type": "markdown",
   "id": "1ff713c65989f2ad",
   "metadata": {},
   "source": [
    "# 1 Summary\n",
    "This report focuses on an in-depth item analysis of World of Warcraft and its first 2 expansions. Two data sets are being used. An items data set with 38'294 items and a zone data set with 195 zones. The data is extracted from github, loaded into a MongoDB collection and transformed in order to fit the needs of the analysis. \n",
    "\n",
    "The analysis mainly focuses around player-wearable items, which make up about two thirds of the items data set. In total, 13 pymongo aggregation pipelines are used to analyze the data. I start out with an analysis of wearable vs non-wearable equipment, move on with a simple pipeline to retrieve more information about weapons and then take a deep dive into specific armor pieces and iconic weapons of the game, including price calculations of valuable items and a thorough analysis of craftable items and their reagents.\n",
    "\n",
    "This pdf-file has been created with MikTek. A conversion from .ipynb to LaTex and finally PDF was done with the pypandoc package and all configurations were handled in a separate python file.   \n",
    "\n",
    "$\\pagebreak$"
   ]
  },
  {
   "cell_type": "markdown",
   "id": "c13edd9aaa39ac35",
   "metadata": {},
   "source": [
    "# 2 Introduction\n",
    "Since I played World of Warcraft for a remarkable amount of time during my adolescence and young adulthood, it was clear that at some point, an in-depth analysis of a WoW-related topic needed to be made. In this course, I took the opportunity to look at freely available data for all obtainable items, such as crafting material, armor and weapons as well as data of all available zones of the game after the first two major expansions, which consist of the following.\n",
    "\n",
    "- World of Warcraft (Base game)\n",
    "- World of Warcraft, The Burning Crusade (first expansion pack)\n",
    "- World of Warcraft, Wrath of the Lich King (second expansion pack)\n",
    "\n",
    "In each expansion, the highest reachable character level increased by 10, starting at level 60 for the base game. Obviously, each character starts at level 1 and needs to reach the base game's highest level first before advancing to the desired end-game content of the expansions, which did take months. When a character reached the highest level, so called \"raiding\" was the main focus of most players. This involves entering an instanced area of the world in a group, where extremely strong enemies, so-called \"bosses\" wait to be eliminated, which offer the best of items for each player. Unfortunately, each boss only provided a limited amount of items and in many raids, certain players returned empty-handed. Not only does each boss only drop a handfull of items, these are also class specific and players have to compete with each other for these items. \n",
    "\n",
    "Since I played mainly as a caster class, which means damage dealing, ranged, magic using classes such as Mages, Warlocks or Priests, this analysis mainly focuses on items that are usable by these classes. An example, the in-game tooltip of a well known and highly respected caster item is shown below. We are looking at $\\textcolor{orange}{Atiesh,\\ Greatstaff\\ of\\ the\\ Guardian}$, which is a legendary caster weapon obtainable only in the base game of WoW by the most commited and skilled casters. The in-game tooltip is the most important feature of this analysis and the data is contained under the \"tooltip\" subsection of the .json file. \n",
    "\n",
    "![Atiesh](./images/Atiesh.png)\n",
    "\n",
    "$\\pagebreak$"
   ]
  },
  {
   "cell_type": "markdown",
   "id": "34b33d77c6671e71",
   "metadata": {},
   "source": [
    "## 2.1 WoW related terminology\n",
    "This terminology is needed to understand the concept of this report, and it is listed to make the following sections more comprehensive. This terminology is not needed to comprehend the technical aspects of this report.\n",
    "\n",
    "- Raid:     Instanced area, group content for 10 to 40 people, difficult enemies with high reward\n",
    "- Dungeon:  Instanced area for 5 players. less difficult than raids.\n",
    "- Boss:     The most difficult enemies to kill in raids or dungeons.\n",
    "- Mob:      Word used for generic enemies. \n",
    "- NPC:      Non-player-character. Every in-game character that is not controlled by a player. Mostly used for friendly characters like townsfolk.\n",
    "- Loot:     Items, that are obtainable after a certain enemy or boss has been killed.\n",
    "- Drop:     A verb used for obtaining items. \"A raid boss has dropped 5 items\" means, that 5 items were obtained after      a raid boss has been killed.\n",
    "- Gear:     Another word for equipment.\n",
    "- Melee:    Close combat fighter, heavily armed.\n",
    "- Caster:   Magic classes such as Wizards or Mages. Mostly ranged fighting style.\n",
    "- Stats:    attributes an item offers, like \"+42 Intellect\". This information is stored in the tooltip.\n",
    "- Quest:    A mission or a task a player is given that offers items, money or experience after completion."
   ]
  },
  {
   "cell_type": "markdown",
   "id": "4b454872e799ac56",
   "metadata": {},
   "source": [
    "# 3 Requirements and Configurations\n",
    "The following packages and versions are being used in this document."
   ]
  },
  {
   "cell_type": "markdown",
   "source": [
    "$\\fullwidthline$"
   ],
   "metadata": {
    "collapsed": false
   },
   "id": "e630b53c8b0fcf3a"
  },
  {
   "cell_type": "code",
   "execution_count": 1,
   "id": "initial_id",
   "metadata": {
    "ExecuteTime": {
     "end_time": "2024-11-05T17:54:36.620195600Z",
     "start_time": "2024-11-05T17:54:30.880295400Z"
    }
   },
   "outputs": [],
   "source": [
    "# import of required packages\n",
    "import requests\n",
    "import pandas as pd\n",
    "import json\n",
    "import pymongo\n",
    "import sys\n",
    "import os\n",
    "import matplotlib.pyplot as plt\n",
    "from pprint import pprint"
   ]
  },
  {
   "cell_type": "code",
   "execution_count": 2,
   "id": "2b313b91c68222a4",
   "metadata": {
    "ExecuteTime": {
     "end_time": "2024-11-05T17:54:41.185566Z",
     "start_time": "2024-11-05T17:54:37.605162300Z"
    }
   },
   "outputs": [
    {
     "name": "stdout",
     "output_type": "stream",
     "text": [
      "dnspython                         2.6.1\n",
      "pandas                            2.2.2\n",
      "pymongo                           4.9\n",
      "python                            3.12.7\n"
     ]
    }
   ],
   "source": [
    "# required versions\n",
    "! pip3 list | findstr \"pymongo dnspython pandas\"\n",
    "print(f\"{'python':<33} {'.'.join(map(str, sys.version_info[:3]))}\")"
   ]
  },
  {
   "cell_type": "markdown",
   "source": [
    "$\\fullwidthline$"
   ],
   "metadata": {
    "collapsed": false
   },
   "id": "7bd9ad007c244c94"
  },
  {
   "cell_type": "markdown",
   "source": [
    "$\\pagebreak$"
   ],
   "metadata": {
    "collapsed": false
   },
   "id": "dfd4d9ef26e6cdb2"
  },
  {
   "cell_type": "markdown",
   "id": "c5ac0567bd2abf76",
   "metadata": {},
   "source": [
    "# 4 ELT Process\n",
    "The data originates from Battle.net, which is the main gaming hub of Activision-Blizzard, the developer of World of Warcraft. This data, however, is not easily accessible. It requires an account and only limited access is provided. The collection of this data is beyond the scope of this course. On Github, I found a public repository, which collected this data in a JSON document without any limitations. Since the original data can also be freely used, the usage of this data is without concern. The link to the repository is provided below. I used the files \"zones.json\" and \"data.json\".\n",
    "\n",
    "https://github.com/nexus-devs/wow-classic-items?tab=readme-ov-file\n",
    "\n",
    "The data itself is an aggregation of many years of World of Warcraft's existence. The base game was released in 2004 and the expansion pack Wrath of The Lich King was active from early 2008 to late 2010. Since then, the data has changed numerous times, which is visible in this json file. The last time the data in this repository has been updated was in 2022. Therefore, many inconsistencies are present, which I try to resolve with best interest. Some missing information is not added because it would include updating thousands of documents individually. More on this later in the chapter [Necessary Data Quality Ckecks](#necessary-data-quality-checks).   \n"
   ]
  },
  {
   "cell_type": "markdown",
   "id": "f3fd53205beaf548",
   "metadata": {},
   "source": [
    "## 4.1 Database Connection\n",
    "First, the connection to the MongoDB has to be specified. To increase database security, the credentials have been set up as environment variables via command prompt. Since external access to the database is not required, this is sufficient."
   ]
  },
  {
   "cell_type": "markdown",
   "source": [
    "$\\fullwidthline$"
   ],
   "metadata": {
    "collapsed": false
   },
   "id": "51f517368bb56b77"
  },
  {
   "cell_type": "code",
   "execution_count": 3,
   "id": "a0b16ea3713d1d6d",
   "metadata": {
    "ExecuteTime": {
     "end_time": "2024-11-05T17:54:45.106038700Z",
     "start_time": "2024-11-05T17:54:45.091871300Z"
    }
   },
   "outputs": [],
   "source": [
    "# Setup of URL, database and credentials\n",
    "# credentials have been set up as environment variables in the command prompt\n",
    "# setx MONGO_USER 'username', setx MONGO_PASSWORD 'password'\n",
    "\n",
    "mongo_user = os.getenv('MONGO_USER')\n",
    "mongo_pass = os.getenv('MONGO_PASSWORD')\n",
    "\n",
    "URL_ITEMS = ('https://raw.githubusercontent.com/nexus-devs/wow-classic-items/'\n",
    "             'refs/heads/master/data/json/data.json')\n",
    "URL_ZONES = ('https://raw.githubusercontent.com/nexus-devs/wow-classic-items/'\n",
    "             'refs/heads/master/data/json/zones.json')\n",
    "\n",
    "CONNECTION = ('mongodb+srv://' + mongo_user + ':' + mongo_pass +\n",
    "              '@stefancluster.vh1o6.mongodb.net/wowdatabase?retryWrites=true&w=majority')\n",
    "DB_NAME = 'wowdatabase'\n",
    "COLL_NAME = 'wotlk_items'\n",
    "COLL_NAME_2 = 'wotlk_zones'"
   ]
  },
  {
   "cell_type": "code",
   "execution_count": 4,
   "id": "e9933583398a71a8",
   "metadata": {
    "ExecuteTime": {
     "end_time": "2024-11-05T17:54:51.416060Z",
     "start_time": "2024-11-05T17:54:46.740286900Z"
    }
   },
   "outputs": [],
   "source": [
    "client = pymongo.MongoClient(CONNECTION)\n",
    "db = client[DB_NAME]\n",
    "wotlk_items = db[COLL_NAME]\n",
    "wotlk_zones = db[COLL_NAME_2]"
   ]
  },
  {
   "cell_type": "markdown",
   "source": [
    "$\\fullwidthline$"
   ],
   "metadata": {
    "collapsed": false
   },
   "id": "b6efe73b640cf024"
  },
  {
   "cell_type": "markdown",
   "id": "3248593bf4506b29",
   "metadata": {},
   "source": [
    "After the connection is set up, the database is cleaned of all previous entries and possible artifacts. The database is also inspected to confirm the clean-up process. This step is necessary such that the execution of the whole notebook from the beginning does not run into any errors."
   ]
  },
  {
   "cell_type": "markdown",
   "source": [
    "$\\fullwidthline$"
   ],
   "metadata": {
    "collapsed": false
   },
   "id": "51a600aa906ea3d9"
  },
  {
   "cell_type": "code",
   "execution_count": 8,
   "id": "1ab5fff47eb17df3",
   "metadata": {
    "ExecuteTime": {
     "end_time": "2024-11-05T17:56:35.905130700Z",
     "start_time": "2024-11-05T17:56:35.802565100Z"
    }
   },
   "outputs": [
    {
     "name": "stdout",
     "output_type": "stream",
     "text": [
      "Available documents in the collection: \n"
     ]
    },
    {
     "data": {
      "text/plain": "0"
     },
     "execution_count": 8,
     "metadata": {},
     "output_type": "execute_result"
    }
   ],
   "source": [
    "# clean up database\n",
    "wotlk_items.drop()\n",
    "print('Available documents in the collection: ')\n",
    "wotlk_items.count_documents({})"
   ]
  },
  {
   "cell_type": "markdown",
   "source": [
    "$\\fullwidthline$"
   ],
   "metadata": {
    "collapsed": false
   },
   "id": "7f41c8680704db4c"
  },
  {
   "cell_type": "code",
   "execution_count": 9,
   "id": "bd6ae13d2bd9e3d4",
   "metadata": {
    "ExecuteTime": {
     "end_time": "2024-11-05T17:56:37.968610Z",
     "start_time": "2024-11-05T17:56:37.912542300Z"
    }
   },
   "outputs": [
    {
     "name": "stdout",
     "output_type": "stream",
     "text": [
      "Available documents in the collection: \n"
     ]
    },
    {
     "data": {
      "text/plain": "0"
     },
     "execution_count": 9,
     "metadata": {},
     "output_type": "execute_result"
    }
   ],
   "source": [
    "wotlk_zones.drop()\n",
    "print('Available documents in the collection: ')\n",
    "wotlk_zones.count_documents({})"
   ]
  },
  {
   "cell_type": "markdown",
   "source": [
    "$\\fullwidthline$"
   ],
   "metadata": {
    "collapsed": false
   },
   "id": "493070ed6e061eab"
  },
  {
   "cell_type": "markdown",
   "id": "7e8cf691d2f2c3ef",
   "metadata": {},
   "source": [
    "## 4.2 Extract"
   ]
  },
  {
   "cell_type": "markdown",
   "id": "b0c2a7545c13c5d5",
   "metadata": {},
   "source": [
    "In the next two code sections, both the items and zones data are accessed and quickly inspected. If everything works correctly, 38'294 items and 195 zones should be obtained. As an example, the first entry of each data set is printed. Because the information about each item is quite extensive, the whole JSON-entry is printed on the next page.\n",
    "\n",
    "The structure of an item is made up of several key-value pairs. The tooltip array can be described as a list of dictionaries in python. Each of those dictionaries has a label with a string value, where the information about the item is stored. Some dictionaries have an additional format key, which seems to indicate where the information is displayed in the in-game tooltip window. \n",
    "The source is also a dictionary with multiple key-value pairs. Depending on the item source, this information can vary greatly. Not all items have a key faction or cost. It seems like the keys depend on the source category. 'CreatedBy' is a nested structure. It is primarly a list of dictionaries with 5 key-value pairs, where the keys 'amount' and 'recipes' are simple lists and 'reagents' is again a list of dictionaries.\n",
    "\n",
    "Each zone in the zones data has 5 key-value pairs, with level being a list of two values, which can be interpreted as \"from - to\", meaning the lowest level that is required to enter the zone and the highest level, indicating the difficulty of enemies that can be expected in a zone."
   ]
  },
  {
   "cell_type": "markdown",
   "source": [
    "$\\pagebreak$"
   ],
   "metadata": {
    "collapsed": false
   },
   "id": "463f4ae4071ff4a5"
  },
  {
   "cell_type": "markdown",
   "source": [
    "$\\fullwidthline$"
   ],
   "metadata": {
    "collapsed": false
   },
   "id": "2c98de9473b606d9"
  },
  {
   "cell_type": "code",
   "execution_count": 10,
   "id": "bebce9d6ab182b27",
   "metadata": {
    "ExecuteTime": {
     "end_time": "2024-11-05T17:56:44.310815Z",
     "start_time": "2024-11-05T17:56:40.616855500Z"
    }
   },
   "outputs": [
    {
     "name": "stdout",
     "output_type": "stream",
     "text": [
      "{\n",
      "    \"itemId\": 53,\n",
      "    \"name\": \"Neophyte's Shirt\",\n",
      "    \"icon\": \"inv_shirt_01\",\n",
      "    \"class\": \"Armor\",\n",
      "    \"subclass\": \"Miscellaneous\",\n",
      "    \"sellPrice\": 1,\n",
      "    \"quality\": \"Common\",\n",
      "    \"itemLevel\": 1,\n",
      "    \"requiredLevel\": 0,\n",
      "    \"slot\": \"Shirt\",\n",
      "    \"tooltip\": [\n",
      "        {\n",
      "            \"label\": \"Neophyte's Shirt\"\n",
      "        },\n",
      "        {\n",
      "            \"label\": \"Phase 1\",\n",
      "            \"format\": \"alignRight\"\n",
      "        },\n",
      "        {\n",
      "            \"label\": \"Item Level 1\",\n",
      "            \"format\": \"Misc\"\n",
      "        },\n",
      "        {\n",
      "            \"label\": \"Shirt\"\n",
      "        },\n",
      "        {\n",
      "            \"label\": \"Sell Price:\"\n",
      "        }\n",
      "    ],\n",
      "    \"itemLink\": \"|cffffffff|Hitem:53::::::::::0|h[Neophyte&apos;s Shirt]|h|r\",\n",
      "    \"vendorPrice\": 1,\n",
      "    \"contentPhase\": 1,\n",
      "    \"source\": {\n",
      "        \"category\": \"Vendor\",\n",
      "        \"name\": \"Thomas Yance\",\n",
      "        \"faction\": \"Both\",\n",
      "        \"cost\": 1\n",
      "    },\n",
      "    \"uniqueName\": \"neophytes-shirt\"\n",
      "}\n",
      "Amount of items in data set: 38294\n"
     ]
    }
   ],
   "source": [
    "wow_data = requests.get(URL_ITEMS)\n",
    "wow_data = wow_data.json()\n",
    "sample_item = json.dumps(wow_data[0], indent=4)\n",
    "\n",
    "print(sample_item)\n",
    "print(\"Amount of items in data set: \" + str(len(wow_data)))"
   ]
  },
  {
   "cell_type": "markdown",
   "source": [
    "$\\fullwidthline$"
   ],
   "metadata": {
    "collapsed": false
   },
   "id": "6f407c21ce33fd26"
  },
  {
   "cell_type": "markdown",
   "id": "ba7f9e680bd961db",
   "metadata": {},
   "source": [
    "This above example item is a Shirt, which is obtainable from an NPC called Thomas Yance. The tooltip does not display any stats, also the required level is zero, which indicates that this item is of very low value and probably obtainable right at the beginning of playing a new character. In this example, the key 'CreatedBy' is missing. This is because this item cannot be created. This is addressed in the next section."
   ]
  },
  {
   "cell_type": "markdown",
   "source": [
    "$\\fullwidthline$"
   ],
   "metadata": {
    "collapsed": false
   },
   "id": "ccee2dcfd0cf313"
  },
  {
   "cell_type": "code",
   "execution_count": 11,
   "id": "cdeaa92be79f69bf",
   "metadata": {
    "ExecuteTime": {
     "end_time": "2024-11-05T17:56:47.474189700Z",
     "start_time": "2024-11-05T17:56:47.191690300Z"
    }
   },
   "outputs": [
    {
     "name": "stdout",
     "output_type": "stream",
     "text": [
      "{\n",
      "    \"id\": 3456,\n",
      "    \"name\": \"Naxxramas\",\n",
      "    \"category\": \"Raid\",\n",
      "    \"level\": [\n",
      "        60,\n",
      "        60\n",
      "    ],\n",
      "    \"territory\": \"Contested\"\n",
      "}\n",
      "**********************************\n",
      "Amount of zones in data set: 195\n"
     ]
    }
   ],
   "source": [
    "wow_zones = requests.get(URL_ZONES)\n",
    "wow_zones = wow_zones.json()\n",
    "\n",
    "sample_zone = json.dumps(wow_zones[0], indent=4)\n",
    "print(sample_zone)\n",
    "print(34*\"*\")\n",
    "print(\"Amount of zones in data set: \" + str(len(wow_zones)))"
   ]
  },
  {
   "cell_type": "markdown",
   "source": [
    "$\\fullwidthline$"
   ],
   "metadata": {
    "collapsed": false
   },
   "id": "8fdd8ef8decc3be9"
  },
  {
   "cell_type": "markdown",
   "id": "50d88440891831a6",
   "metadata": {},
   "source": [
    "The first zone in the zones file is Naxxramas, which is a raid of the base game that players can only enter after reaching level 60. This raid was laid out for 40 players and offered the best items in the base game before the first expansion pack was released."
   ]
  },
  {
   "cell_type": "markdown",
   "id": "ce126ac954242ac0",
   "metadata": {},
   "source": [
    "### 4.2.1 Definition of the extraction function\n",
    "\n",
    "Here I define the function that extracts only the item data we need and initialises the fields subclass, createdBy and source as 'None' where it does not exist, or specify the missing data by a string. The results are saved as a list of extracted items. A random item is printed to verify the extraction function.\n",
    "\n",
    "Information such as 'itemLink', 'ContentPhase', 'uniqueName' and 'icon' are not extracted. The itemLink is of no use in this analysis. The ContentPhase is missing for many entries and mixed up because of the re-release of WoW-Classic in 2019, a separate playable instance of WoW where the content was set back to the state of the base game. 'icon' is also not extracted, since this refers to the icon image of the original data, which is not available. the uniqueName is a different variant of the item name and is therefore not extracted. The tooltip is initialised as an empty list, the information of the key-value pairs inside the array are extracted as strings and added to the empty tooltip list. The source is kept as a dictionary."
   ]
  },
  {
   "cell_type": "markdown",
   "source": [
    "$\\pagebreak$"
   ],
   "metadata": {
    "collapsed": false
   },
   "id": "943d067ff7bd029c"
  },
  {
   "cell_type": "markdown",
   "source": [
    "$\\fullwidthline$"
   ],
   "metadata": {
    "collapsed": false
   },
   "id": "cd0f5974c082220f"
  },
  {
   "cell_type": "code",
   "execution_count": 12,
   "id": "8ebbf8ed6f5fa8a5",
   "metadata": {
    "ExecuteTime": {
     "end_time": "2024-11-05T17:56:50.605908700Z",
     "start_time": "2024-11-05T17:56:50.546808900Z"
    }
   },
   "outputs": [
    {
     "data": {
      "text/plain": "{'id': 182,\n 'name': \"Garrick's Head\",\n 'class': 'Quest',\n 'subclass': 'Quest',\n 'sellPrice': 0,\n 'quality': 'Common',\n 'itemLevel': 1,\n 'requiredLevel': 0,\n 'slot': 'Non-equippable',\n 'tooltip': [\"Garrick's Head\",\n  'Item Level 1',\n  'Quest Item',\n  'Unique',\n  'Dropped by: Garrick Padfoot',\n  'Drop Chance: 98.40%'],\n 'vendorPrice': None,\n 'source': {'category': 'Boss Drop',\n  'name': 'Garrick Padfoot',\n  'zone': 12,\n  'dropChance': 0.984,\n  'faction': None,\n  'cost': None},\n 'recipe': 'This item can not be crafted'}"
     },
     "execution_count": 12,
     "metadata": {},
     "output_type": "execute_result"
    }
   ],
   "source": [
    "# extract only relevant values\n",
    "def extract_values(item):\n",
    "    values = {\n",
    "        'id': int(item['itemId']),\n",
    "        'name': item['name'],\n",
    "        'class': item['class'],\n",
    "        # initialise subclass, indicate with string if there is none\n",
    "        'subclass': item.get('subclass', 'This item has no subclass'),\n",
    "        'sellPrice': item['sellPrice'],\n",
    "        'quality': item['quality'],\n",
    "        'itemLevel': item['itemLevel'],\n",
    "        'requiredLevel': item['requiredLevel'],\n",
    "        'slot': item['slot'],\n",
    "        # Initialize tooltip as an empty list\n",
    "        'tooltip': [],  \n",
    "        # Not all items can be sold \n",
    "        'vendorPrice': None,\n",
    "        # not all items have a source (bad data quality)\n",
    "        'source': None,  \n",
    "        # Not all items can be crafted\n",
    "        'recipe': \"This item can not be crafted\"  \n",
    "    }\n",
    "    \n",
    "    # Check if 'tooltip' exists in the item and check format\n",
    "    if 'tooltip' in item and isinstance(item['tooltip'], list):  \n",
    "        for tooltip_entry in item['tooltip']:\n",
    "            if 'label' in tooltip_entry:\n",
    "                values['tooltip'].append(tooltip_entry['label'])\n",
    "\n",
    "    # Check if 'source' exists in the item and are a dictionary\n",
    "    if 'source' in item and isinstance(item['source'], dict):\n",
    "        values['source'] = {\n",
    "            'category': item['source'].get('category'),\n",
    "            'name': item['source'].get('name'),\n",
    "            'zone': item['source'].get('zone'),\n",
    "            'dropChance': item['source'].get('dropChance'),\n",
    "            'faction': item['source'].get('faction'),\n",
    "            'cost': item['source'].get('cost')\n",
    "        }\n",
    "        \n",
    "    # when vendor price exists and is not None. Extract real vendor price    \n",
    "    if 'vendorPrice' in item and isinstance(item['vendorPrice'], int):\n",
    "        values['vendorPrice'] = item['vendorPrice']\n",
    "    \n",
    "    # Check if 'createdBy' exists, rename to recipe.\n",
    "    if 'createdBy' in item and isinstance(item['createdBy'], list):\n",
    "        values['recipe'] = item['createdBy']  \n",
    "    \n",
    "    return values\n",
    "\n",
    "# Test extraction with any item, use 16023 for an item that can be created\n",
    "doc = extract_values(wow_data[10])\n",
    "doc\n"
   ]
  },
  {
   "cell_type": "code",
   "execution_count": 13,
   "id": "dddbaee88cb18ff0",
   "metadata": {
    "ExecuteTime": {
     "end_time": "2024-11-05T17:56:52.837721400Z",
     "start_time": "2024-11-05T17:56:52.518854900Z"
    }
   },
   "outputs": [],
   "source": [
    "# extract all items in desired format\n",
    "extracted_items = [extract_values(item) for item in wow_data]"
   ]
  },
  {
   "cell_type": "markdown",
   "source": [
    "$\\fullwidthline$"
   ],
   "metadata": {
    "collapsed": false
   },
   "id": "1406f53322f0563c"
  },
  {
   "cell_type": "markdown",
   "source": [
    "The zones data is also extracted with an extraction function. This time, only the category and territory is initialized as None, the rest of the data is extracted as is. Again, the extraction function is tested on a sample zone for confirmation. The zone with id 10 is selected to display a zone with a missing category."
   ],
   "metadata": {
    "collapsed": false
   },
   "id": "f7a1c3655e1f5afe"
  },
  {
   "cell_type": "markdown",
   "source": [
    "$\\fullwidthline$"
   ],
   "metadata": {
    "collapsed": false
   },
   "id": "f8de4e4d88480a6d"
  },
  {
   "cell_type": "code",
   "outputs": [
    {
     "data": {
      "text/plain": "{'id': 4395,\n 'name': 'Dalaran',\n 'category': None,\n 'level': [1, 80],\n 'territory': 'Sanctuary'}"
     },
     "execution_count": 14,
     "metadata": {},
     "output_type": "execute_result"
    }
   ],
   "source": [
    "# define extract function for zones data.\n",
    "# initialise category and territory as none if it is not present.\n",
    "def extract_zones(zone):\n",
    "    values = {\n",
    "        'id': int(zone['id']),\n",
    "        'name': zone['name'],\n",
    "        'category': zone.get('category', None),\n",
    "        'level': zone['level'],\n",
    "        'territory': zone.get('territory', None)\n",
    "    }\n",
    "    \n",
    "    return values\n",
    "\n",
    "# Test extraction with any zone, Dalaran as an example without category\n",
    "doc = extract_zones(wow_zones[10])\n",
    "doc"
   ],
   "metadata": {
    "collapsed": false,
    "ExecuteTime": {
     "end_time": "2024-11-05T17:56:55.054034Z",
     "start_time": "2024-11-05T17:56:55.042102600Z"
    }
   },
   "id": "dd420110af1ef121",
   "execution_count": 14
  },
  {
   "cell_type": "code",
   "outputs": [],
   "source": [
    "# extract all zones in desired format\n",
    "extracted_zones = [extract_zones(zone) for zone in wow_zones]"
   ],
   "metadata": {
    "collapsed": false,
    "ExecuteTime": {
     "end_time": "2024-11-05T17:57:47.476898900Z",
     "start_time": "2024-11-05T17:57:47.419336800Z"
    }
   },
   "id": "f79fb61f9a31f9f7",
   "execution_count": 19
  },
  {
   "cell_type": "markdown",
   "source": [
    "$\\fullwidthline$"
   ],
   "metadata": {
    "collapsed": false
   },
   "id": "7d1bd0065cf19dd0"
  },
  {
   "cell_type": "markdown",
   "id": "738882fd093bcb4e",
   "metadata": {},
   "source": [
    "### 4.2.2 Data Quality Checks\n",
    "During manual inspection of the extracted items data set I noticed severe issues in data quality. Fields such as \"source\" and \"createdBy\" are not available for every item. Furthermore, I check if every Item has an id, a name and a tooltip, since there, the most important information for this analysis is stored. The first quality check is done for the source of each item. Since I want to show where certain items can be obtained, this information is crucial. The following code checks if a source is present in each item."
   ]
  },
  {
   "cell_type": "markdown",
   "source": [
    "$\\fullwidthline$"
   ],
   "metadata": {
    "collapsed": false
   },
   "id": "10ef45f65442d97c"
  },
  {
   "cell_type": "code",
   "execution_count": 15,
   "id": "88978e359625bbd1",
   "metadata": {
    "ExecuteTime": {
     "end_time": "2024-11-05T17:56:57.309714Z",
     "start_time": "2024-11-05T17:56:57.257123300Z"
    }
   },
   "outputs": [
    {
     "name": "stdout",
     "output_type": "stream",
     "text": [
      "Total items:           38294\n",
      "Items Without source:  16692\n"
     ]
    }
   ],
   "source": [
    "# Initialize counters\n",
    "total_items = len(extracted_items)  # Total items\n",
    "items_without_source = 0  # Counter for items without source\n",
    "\n",
    "# Loop through the data and count items without 'source' field\n",
    "for item in extracted_items:\n",
    "    # Check if 'source' is None\n",
    "    if item.get('source') is None:\n",
    "        items_without_source += 1\n",
    "\n",
    "# Display the results\n",
    "print(f\"{'Total items:':<22} {total_items}\")\n",
    "print(f\"{'Items Without source:':<22} {items_without_source}\")"
   ]
  },
  {
   "cell_type": "markdown",
   "source": [
    "$\\fullwidthline$"
   ],
   "metadata": {
    "collapsed": false
   },
   "id": "3643908813083b49"
  },
  {
   "cell_type": "markdown",
   "id": "ce213f5852221d25",
   "metadata": {},
   "source": [
    "In total, almost half of the items have no source. For some pipelines later on, this is an issue. Therefore, \"source\" was initialized as None in the extraction for all items, which have no source specified.\n",
    "\n",
    "Further manual inspection revealed another oddity. It seems that at some point, another logic has been used for the aggregation of the items in json-format. Not all items have a source, but instead a tooltip mentioning the origin of the item, for example \"Dropped by: Kel'Thuzad\". This indicates that after killing this boss, one can obtain the corresponding item. The source could be created via the zone id from the zones file, but there is no data that would allow mapping of NPC's and bosses to zones. It is only a fraction of affected items, but these are items I am most interested in for this analysis. The source is instead extracted from the tooltip and added later on in the Transform section.\n",
    "\n",
    "The next code section checks for items that have a missing source, but a tooltip 'Dropped by:'. "
   ]
  },
  {
   "cell_type": "markdown",
   "source": [
    "$\\fullwidthline$"
   ],
   "metadata": {
    "collapsed": false
   },
   "id": "e4f3a48e62709246"
  },
  {
   "cell_type": "code",
   "execution_count": 42,
   "id": "a953980dbeb7f675",
   "metadata": {
    "ExecuteTime": {
     "end_time": "2024-11-03T13:29:46.407043300Z",
     "start_time": "2024-11-03T13:29:46.365253700Z"
    }
   },
   "outputs": [
    {
     "name": "stdout",
     "output_type": "stream",
     "text": [
      "Total Items:                                            38294\n",
      "Items Without source But With Dropped by in Tooltip:    1693\n"
     ]
    }
   ],
   "source": [
    "# Initialize counters\n",
    "total_items = len(extracted_items)\n",
    "# Counter for items without source but with 'Dropped by'\n",
    "items_without_source_with_dropped_by = 0  \n",
    "\n",
    "# Loop through data and count affected items\n",
    "for item in extracted_items:\n",
    "    # Check if 'source' is None and 'tooltip' is present\n",
    "    if item.get('source') is None and 'tooltip' in item:\n",
    "        # Iterate over each entry in the tooltip list\n",
    "        for tooltip in item['tooltip']:\n",
    "            # Check if \"Dropped by:\" exists in the tooltip string\n",
    "            if 'Dropped by:' in tooltip:\n",
    "                items_without_source_with_dropped_by += 1\n",
    "                break  # Break the loop once a match is found\n",
    "\n",
    "# Display the results\n",
    "print(f\"{'Total Items:':<55} {total_items}\")\n",
    "print(f\"{'Items Without source But With Dropped by in Tooltip:':<55} \"\n",
    "      f\"{items_without_source_with_dropped_by}\")"
   ]
  },
  {
   "cell_type": "markdown",
   "source": [
    "$\\fullwidthline$"
   ],
   "metadata": {
    "collapsed": false
   },
   "id": "1b96ac05739aadcc"
  },
  {
   "cell_type": "markdown",
   "id": "81994058f17b1dd",
   "metadata": {},
   "source": [
    "Let's look at some of those items. In order to retrieve high quality items, a filter for a required level of 60, 70 or 80 is included, which corresponds to the highest reachable player level in the different versions of the game."
   ]
  },
  {
   "cell_type": "markdown",
   "source": [
    "$\\pagebreak$"
   ],
   "metadata": {
    "collapsed": false
   },
   "id": "f92ced8455093630"
  },
  {
   "cell_type": "code",
   "execution_count": 43,
   "id": "7cb3370e06ca0436",
   "metadata": {
    "ExecuteTime": {
     "end_time": "2024-11-03T13:29:51.364029700Z",
     "start_time": "2024-11-03T13:29:51.333863800Z"
    }
   },
   "outputs": [
    {
     "name": "stdout",
     "output_type": "stream",
     "text": [
      " Item_ID             Item_Name Dropped by\n",
      "   16900       Stormrage Cover     Onyxia\n",
      "   16908        Bloodfang Hood     Onyxia\n",
      "   16914      Netherwind Crown     Onyxia\n",
      "   16921 Halo of Transcendence     Onyxia\n",
      "   16929      Nemesis Skullcap     Onyxia\n",
      "   16939  Dragonstalker's Helm     Onyxia\n",
      "   16947  Helmet of Ten Storms     Onyxia\n",
      "   16955       Judgement Crown     Onyxia\n",
      "   16963         Helm of Wrath     Onyxia\n",
      "   17064    Shard of the Scale     Onyxia\n"
     ]
    }
   ],
   "source": [
    "# Define required levels to check\n",
    "required_levels = {60, 70, 80}\n",
    "\n",
    "# Initialize a list to store affected items\n",
    "affected_items = []\n",
    "\n",
    "# Loop through the data to find items without 'source',\n",
    "# with 'Dropped by' in tooltip, and required level 60, 70, or 80\n",
    "for item in extracted_items:\n",
    "    # Check if 'source' is None, 'tooltip' is present, required level is 60, 70, or 80\n",
    "    if (item.get('source') is None and \n",
    "            'tooltip' in item and item.get('requiredLevel') in required_levels):\n",
    "        # Loop through the tooltip entries to find \"Dropped by\"\n",
    "        for tooltip in item['tooltip']:\n",
    "            if 'Dropped by:' in tooltip:\n",
    "                # Extract the boss name (after \"Dropped by:\")\n",
    "                boss_name = tooltip.split('Dropped by: ')[-1]\n",
    "                \n",
    "                # Store the information in a dictionary\n",
    "                affected_items.append({\n",
    "                    'itemId': item.get('id'),\n",
    "                    'name': item.get('name'),\n",
    "                    'boss_name': boss_name})\n",
    "                break  # Stop after finding the first 'Dropped by'\n",
    "\n",
    "    # Stop after extracting 10 items\n",
    "    if len(affected_items) >= 10:\n",
    "        break\n",
    "\n",
    "# Display the extracted items\n",
    "df = pd.DataFrame(affected_items)\n",
    "df.columns = [\"Item_ID\", \"Item_Name\", \"Dropped by\"]\n",
    "print(df.to_string(index=False))"
   ]
  },
  {
   "cell_type": "markdown",
   "source": [
    "$\\fullwidthline$"
   ],
   "metadata": {
    "collapsed": false
   },
   "id": "7bea5e327333b9cc"
  },
  {
   "cell_type": "markdown",
   "id": "d5375bccb817ace4",
   "metadata": {},
   "source": [
    "Although these item names might not provide additional value for someone that is not familiar with WoW, I can confirm that these are items of high interest. The excerpt shows that all of the 10 items are obtained from Onyxia. Onyxia is a Raid-Boss of the base game and offers highly sought-after head-slot-pieces, as easily derivable from the item names. As already mentioned, this was just done to point out the quality issue. The necessary transformation is performed later in MongoDB.\n",
    "\n",
    "Next, I check for items that have no recipe or no \"createdBy\" field, which means, they can not be created. In the extraction function, I initialised a string \"This item can not be crafted\" for every item, that is affected to make the structure of each document identical and to better understand the data."
   ]
  },
  {
   "cell_type": "markdown",
   "source": [
    "$\\fullwidthline$"
   ],
   "metadata": {
    "collapsed": false
   },
   "id": "c8b711cd2e782a12"
  },
  {
   "cell_type": "code",
   "execution_count": 44,
   "id": "a07ab054c2782a98",
   "metadata": {
    "ExecuteTime": {
     "end_time": "2024-11-03T13:29:54.229713600Z",
     "start_time": "2024-11-03T13:29:54.207420Z"
    }
   },
   "outputs": [
    {
     "name": "stdout",
     "output_type": "stream",
     "text": [
      "Total Items:                   38294\n",
      "Items without a recipe:        35069\n",
      "Items with a recipe:           3225\n"
     ]
    }
   ],
   "source": [
    "# Initialize counters\n",
    "total_items = len(extracted_items)  # Total items\n",
    "items_without_recipe = 0  # Counter for items without 'recipe'\n",
    "\n",
    "# Loop through the data and count items without 'recipe'\n",
    "for item in extracted_items:\n",
    "    if item.get('recipe') == 'This item can not be crafted':\n",
    "        items_without_recipe += 1\n",
    "\n",
    "# Display the results\n",
    "print(f\"{'Total Items:':<30} {total_items}\")\n",
    "print(f\"{'Items without a recipe:':<30} {items_without_recipe}\")\n",
    "print(f\"{'Items with a recipe:':<30} {total_items - items_without_recipe}\")"
   ]
  },
  {
   "cell_type": "markdown",
   "source": [
    "$\\fullwidthline$"
   ],
   "metadata": {
    "collapsed": false
   },
   "id": "f0198dc020a0ed71"
  },
  {
   "cell_type": "markdown",
   "id": "162455c8318790ce",
   "metadata": {},
   "source": [
    "As expected, most items can not be created. In fact, only 3225 items can be created via in-game professions such as for example blacksmithing or tailoring. This is not an issue and the initialization has only been done for cosmetic reasons. As a last quality check, I inspect if every item at least has an item id, an item name and a tooltip. The most valuable information for this analysis is hidden in the tooltip. Any items without a tooltip would be deleted from the list."
   ]
  },
  {
   "cell_type": "markdown",
   "source": [
    "$\\fullwidthline$"
   ],
   "metadata": {
    "collapsed": false
   },
   "id": "1686bbe52f87b459"
  },
  {
   "cell_type": "code",
   "execution_count": 45,
   "id": "9f5bd8af637c99fe",
   "metadata": {
    "ExecuteTime": {
     "end_time": "2024-11-03T13:29:57.116796900Z",
     "start_time": "2024-11-03T13:29:57.088858800Z"
    }
   },
   "outputs": [
    {
     "name": "stdout",
     "output_type": "stream",
     "text": [
      "Total Items:                   38294\n",
      "Items Missing itemId or name:  0\n",
      "Items Without tooltip:         0\n"
     ]
    }
   ],
   "source": [
    "# Initialize counters\n",
    "total_items = len(extracted_items)  # Total items\n",
    "items_without_tooltip = 0  # Counter for items without 'tooltip'\n",
    "items_missing_id_or_name = 0  # Counter for items missing 'id' or 'name'\n",
    "\n",
    "# count items without 'tooltip' and items missing 'itemId' or 'name'\n",
    "for item in extracted_items:\n",
    "    # Check for missing 'id' or 'name'\n",
    "    if 'id' not in item or 'name' not in item:\n",
    "        items_missing_id_or_name += 1\n",
    "    # If 'itemId' and 'name' are present, check for missing 'tooltip'\n",
    "    elif 'tooltip' not in item:\n",
    "        items_without_tooltip += 1\n",
    "\n",
    "# Display the overall results\n",
    "print(f\"{'Total Items:':<30} {total_items}\")\n",
    "print(f\"{'Items Missing itemId or name:':<30} {items_missing_id_or_name}\")\n",
    "print(f\"{'Items Without tooltip:':<30} {items_without_tooltip}\")"
   ]
  },
  {
   "cell_type": "markdown",
   "source": [
    "$\\fullwidthline$"
   ],
   "metadata": {
    "collapsed": false
   },
   "id": "f91ef54010daefa8"
  },
  {
   "cell_type": "markdown",
   "id": "be2972fb083189f9",
   "metadata": {},
   "source": [
    "Since all items have at least an id, a name and a tooltip, there is no further clean-up needed. All required transformations are done directly in MongoDB, after the data is uploaded. \n",
    "\n",
    "As for the zones, I simply check for missing id's and names, since I need the id for mapping Bosses to zones later on. The missing category is not of an issue. It is only missing for open world zones, which are not of interest in this analysis. Every zone that is a raid or a dungeon has the corresponding category."
   ]
  },
  {
   "cell_type": "markdown",
   "source": [
    "$\\fullwidthline$"
   ],
   "metadata": {
    "collapsed": false
   },
   "id": "4c641c8e7dd5ede4"
  },
  {
   "cell_type": "code",
   "execution_count": 88,
   "id": "4382f4b9ce034ab2",
   "metadata": {
    "ExecuteTime": {
     "end_time": "2024-11-03T14:47:15.643632400Z",
     "start_time": "2024-11-03T14:47:15.610455900Z"
    }
   },
   "outputs": [
    {
     "name": "stdout",
     "output_type": "stream",
     "text": [
      "Total Zones:                   195\n",
      "Zones missing name or id:      0\n",
      "Zones missing category:        72\n"
     ]
    }
   ],
   "source": [
    "# Initialize counters\n",
    "total_zones = len(extracted_zones)  # Total zones\n",
    "zones_missing_id_or_name = 0  # Counter for zones missing 'id' or 'name'\n",
    "zones_missing_category = 0 # counter for missing categories\n",
    "\n",
    "# Loop through the data and count zones missing 'id' or 'name'\n",
    "for zone in extracted_zones:\n",
    "    # Check if 'id' or 'name' is missing\n",
    "    if 'id' not in zone or 'name' not in zone:\n",
    "        zones_missing_id_or_name += 1\n",
    "    if zone['category'] is None:\n",
    "        zones_missing_category+= 1\n",
    "\n",
    "# Display the results\n",
    "print(f\"{'Total Zones:':<30} {total_zones}\")\n",
    "print(f\"{'Zones missing name or id:':<30} {zones_missing_id_or_name}\")\n",
    "print(f\"{'Zones missing category:':<30} {zones_missing_category}\")"
   ]
  },
  {
   "cell_type": "markdown",
   "source": [
    "$\\fullwidthline$"
   ],
   "metadata": {
    "collapsed": false
   },
   "id": "fc718175d4c574b8"
  },
  {
   "cell_type": "markdown",
   "id": "28cfe75b9066b7bb",
   "metadata": {},
   "source": [
    "The zones data is clean for the scope of this analysis and does not need any further preprocessing. "
   ]
  },
  {
   "cell_type": "markdown",
   "id": "7fdf2de13c2e0bed",
   "metadata": {},
   "source": [
    "## 4.3 Load\n",
    "the items data is uploaded to the MongoDB with the insert_many() statement. I again count all documents to make sure all items have been uploaded correctly. I expect 38294 items to be inserted into the database. I check this with the count_documents statement. "
   ]
  },
  {
   "cell_type": "markdown",
   "source": [
    "$\\pagebreak$"
   ],
   "metadata": {
    "collapsed": false
   },
   "id": "8f533dc856cdc715"
  },
  {
   "cell_type": "markdown",
   "source": [
    "$\\fullwidthline$"
   ],
   "metadata": {
    "collapsed": false
   },
   "id": "c8c986045dfd124e"
  },
  {
   "cell_type": "code",
   "execution_count": 16,
   "id": "9f9d1f8f22f68e25",
   "metadata": {
    "ExecuteTime": {
     "end_time": "2024-11-05T17:57:15.927548900Z",
     "start_time": "2024-11-05T17:57:05.001476700Z"
    }
   },
   "outputs": [
    {
     "data": {
      "text/plain": "38294"
     },
     "execution_count": 16,
     "metadata": {},
     "output_type": "execute_result"
    }
   ],
   "source": [
    "# This removes the '_id' field given by MongoDB and resolves loading issues.\n",
    "# without the _id removal, loading issues arised every time.\n",
    "for item in extracted_items:\n",
    "    if '_id' in item:\n",
    "        del item['_id']\n",
    "        \n",
    "wotlk_items.insert_many(extracted_items)\n",
    "wotlk_items.count_documents({})"
   ]
  },
  {
   "cell_type": "markdown",
   "source": [
    "$\\fullwidthline$"
   ],
   "metadata": {
    "collapsed": false
   },
   "id": "1a7544443cb97d6b"
  },
  {
   "cell_type": "markdown",
   "id": "b97820464ed78996",
   "metadata": {},
   "source": [
    "To quickly inspect the database, the first 10 entries are printed as a pandas data frame. The items sold by the NPC Thomas Yance should appear since one of those is the very first item in the data set. Since the dataframe has a lot of columns, only a few columns are being displayed."
   ]
  },
  {
   "cell_type": "markdown",
   "source": [
    "$\\fullwidthline$"
   ],
   "metadata": {
    "collapsed": false
   },
   "id": "b4d8f5550d1a4c8c"
  },
  {
   "cell_type": "code",
   "execution_count": 17,
   "id": "2b75e78c4f63390c",
   "metadata": {
    "ExecuteTime": {
     "end_time": "2024-11-05T17:57:18.074181100Z",
     "start_time": "2024-11-05T17:57:17.918835300Z"
    }
   },
   "outputs": [
    {
     "name": "stdout",
     "output_type": "stream",
     "text": [
      "    id                    name   class       subclass quality       slot\n",
      "0   53        Neophyte's Shirt   Armor  Miscellaneous  Common      Shirt\n",
      "1   45          Squire's Shirt   Armor  Miscellaneous  Common      Shirt\n",
      "2   36               Worn Mace  Weapon           Mace  Common  Main Hand\n",
      "3   44          Squire's Pants   Armor          Cloth    Poor       Legs\n",
      "4   38         Recruit's Shirt   Armor  Miscellaneous  Common      Shirt\n",
      "5   49         Footpad's Shirt   Armor  Miscellaneous  Common      Shirt\n",
      "6  148  Rugged Trapper's Shirt   Armor  Miscellaneous  Common      Shirt\n",
      "7   25         Worn Shortsword  Weapon          Sword  Common  Main Hand\n",
      "8  127         Trapper's Shirt   Armor  Miscellaneous  Common      Shirt\n",
      "9   37                Worn Axe  Weapon            Axe  Common  Main Hand\n"
     ]
    }
   ],
   "source": [
    "# display 10 items \n",
    "r = wotlk_items.aggregate([\n",
    "      {\"$limit\": 10},\n",
    "]) \n",
    "\n",
    "df = pd.DataFrame(r)\n",
    "# only select certain columns since table is too long and can't be displayed\n",
    "display_columns = ['id', 'name', 'class', 'subclass', 'quality', 'slot']\n",
    "print(df[display_columns])"
   ]
  },
  {
   "cell_type": "markdown",
   "source": [
    "$\\fullwidthline$"
   ],
   "metadata": {
    "collapsed": false
   },
   "id": "d186534481f8453"
  },
  {
   "cell_type": "markdown",
   "source": [
    "$\\pagebreak$"
   ],
   "metadata": {
    "collapsed": false
   },
   "id": "d2d9bebceecb1624"
  },
  {
   "cell_type": "markdown",
   "id": "f2baa5ec356354dd",
   "metadata": {},
   "source": [
    "Since the zones data is clean, the documents are directly inserted to the database by insert_many. Again, I check the upload with count_documents. I expect 195 zones to be inserted into the database."
   ]
  },
  {
   "cell_type": "markdown",
   "source": [
    "$\\fullwidthline$"
   ],
   "metadata": {
    "collapsed": false
   },
   "id": "db39552c7f3c52fd"
  },
  {
   "cell_type": "code",
   "execution_count": 20,
   "id": "c2e0f8812f370738",
   "metadata": {
    "ExecuteTime": {
     "end_time": "2024-11-05T17:57:57.243992100Z",
     "start_time": "2024-11-05T17:57:56.145420Z"
    }
   },
   "outputs": [
    {
     "data": {
      "text/plain": "195"
     },
     "execution_count": 20,
     "metadata": {},
     "output_type": "execute_result"
    }
   ],
   "source": [
    "for zone in extracted_zones:\n",
    "    if '_id' in zone:\n",
    "        del zone['_id']\n",
    "        \n",
    "wotlk_zones.insert_many(extracted_zones)\n",
    "wotlk_zones.count_documents({})"
   ]
  },
  {
   "cell_type": "markdown",
   "source": [
    "$\\fullwidthline$"
   ],
   "metadata": {
    "collapsed": false
   },
   "id": "d51dceea824b6480"
  },
  {
   "cell_type": "markdown",
   "id": "25d1a7875ca4138a",
   "metadata": {},
   "source": [
    "I also check the first five zone entries to confirm the upload to MongoDB. Again, Naxxramas should appear as the very first entry."
   ]
  },
  {
   "cell_type": "markdown",
   "source": [
    "$\\fullwidthline$"
   ],
   "metadata": {
    "collapsed": false
   },
   "id": "bd53674db12a74f3"
  },
  {
   "cell_type": "code",
   "execution_count": 21,
   "id": "5147aeea32bf01a4",
   "metadata": {
    "ExecuteTime": {
     "end_time": "2024-11-05T17:58:00.337888300Z",
     "start_time": "2024-11-05T17:58:00.294949100Z"
    }
   },
   "outputs": [
    {
     "name": "stdout",
     "output_type": "stream",
     "text": [
      "     id                  name category     level  territory\n",
      "0  3456             Naxxramas     Raid  [60, 60]  Contested\n",
      "1  4812      Icecrown Citadel     Raid  [80, 80]  Contested\n",
      "2  4493  The Obsidian Sanctum     Raid  [80, 80]  Contested\n",
      "3  4273                Ulduar     Raid  [80, 80]  Contested\n",
      "4  4500   The Eye of Eternity     Raid  [80, 80]  Contested\n"
     ]
    }
   ],
   "source": [
    "# get 5 zones and display as pd dataframe\n",
    "r = wotlk_zones.aggregate([\n",
    "      {\"$limit\": 5},\n",
    "])\n",
    "\n",
    "df = pd.DataFrame(r)\n",
    "display_columns = ['id', 'name', 'category', 'level', 'territory']\n",
    "print(df[display_columns])"
   ]
  },
  {
   "cell_type": "markdown",
   "source": [
    "$\\fullwidthline$"
   ],
   "metadata": {
    "collapsed": false
   },
   "id": "7cbd6ca45d2ab492"
  },
  {
   "cell_type": "markdown",
   "id": "61a61dd60942fa83",
   "metadata": {},
   "source": [
    "## 4.4 Transform\n",
    "With the data uploaded to MongoDB, I now can conduct the needed transformations regarding the missing sources. The name of the boss is extracted from the tooltip. The following contents are added as the source:\n",
    "\n",
    "- {category: \"Boss Drop\"}\n",
    "- {name: \"extracted boss name\"}"
   ]
  },
  {
   "cell_type": "markdown",
   "source": [
    "$\\pagebreak$"
   ],
   "metadata": {
    "collapsed": false
   },
   "id": "92a4c6710c78fdc7"
  },
  {
   "cell_type": "code",
   "execution_count": 22,
   "id": "accc444c80edb0c3",
   "metadata": {
    "ExecuteTime": {
     "end_time": "2024-11-05T17:58:06.032209900Z",
     "start_time": "2024-11-05T17:58:05.124624300Z"
    }
   },
   "outputs": [],
   "source": [
    "pipeline = [{\"$match\": {\n",
    "            \"source\": None,  # Items with source set to None\n",
    "            \"tooltip\": {\n",
    "                \"$elemMatch\": {\n",
    "                    # Items with \"Dropped by\" in tooltip \n",
    "                    \"$regex\": \"Dropped by: \"}}}},   \n",
    "    {\"$unwind\": \"$tooltip\"},  # Flatten the tooltip array \n",
    "    {\"$match\": {\n",
    "            \"tooltip\": {\n",
    "                # Filter to keep only tooltips with \"Dropped by\"\n",
    "                \"$regex\": \"Dropped by: \"}}},      \n",
    "    {\"$set\": {\n",
    "        \"source\": {\n",
    "            \"category\": \"Boss Drop\",  # Set the category\n",
    "            \"name\": {\n",
    "                \"$arrayElemAt\": [\n",
    "                    {\"$split\": [\n",
    "                            \"$tooltip\",\n",
    "                            \"Dropped by: \"]},1]}}}},\n",
    "    {\"$merge\": {\n",
    "        \"into\": \"wotlk_items\",  # my collection\n",
    "        \"whenMatched\": \"merge\",  # Merge the updates to existing document\n",
    "        \"whenNotMatched\": \"discard\"}}]  # Discard documents not matched\n",
    "\n",
    "# Execute the aggregation pipeline (; supresses cursor output)\n",
    "wotlk_items.aggregate(pipeline);"
   ]
  },
  {
   "cell_type": "markdown",
   "source": [
    "$\\fullwidthline$"
   ],
   "metadata": {
    "collapsed": false
   },
   "id": "60dc169d0b428da8"
  },
  {
   "cell_type": "markdown",
   "id": "6b5b65608b617014",
   "metadata": {},
   "source": [
    "Now, the transformation is observed numerically. The expected output is 14999. In the section \"Data quality checks\" I counted all items without a source, which were 16'692. All items that are affected by the pipeline above are 1693. Again, affected items are those with a missing source, but a tooltip \"Dropped by:\". Subtracting the affected items count from all items without a source, should result in 14999 items left without a source. Unfortunately, the source information for these items is not available. "
   ]
  },
  {
   "cell_type": "markdown",
   "source": [
    "$\\fullwidthline$"
   ],
   "metadata": {
    "collapsed": false
   },
   "id": "3be204efcad16dda"
  },
  {
   "cell_type": "code",
   "execution_count": 23,
   "id": "e68a95b71a0f9fd",
   "metadata": {
    "ExecuteTime": {
     "end_time": "2024-11-05T17:58:13.013440Z",
     "start_time": "2024-11-05T17:58:07.953663600Z"
    }
   },
   "outputs": [
    {
     "name": "stdout",
     "output_type": "stream",
     "text": [
      "Total items count:             38294\n",
      "Items without source count:    14999\n"
     ]
    }
   ],
   "source": [
    "pipeline = [{\"$group\": {\n",
    "            \"_id\": None,\n",
    "            # Count all items\n",
    "            \"total_count\": {\"$sum\": 1},  \n",
    "            \"without_source_count\": {\n",
    "                \"$sum\": {\"$cond\": [\n",
    "                        # Check if source is None\n",
    "                        {\"$eq\": [\"$source\", None]}, 1,0]}}}}] \n",
    "                        \n",
    "# Execute the aggregation pipeline\n",
    "results = wotlk_items.aggregate(pipeline)\n",
    "\n",
    "for result in results:\n",
    "    print(f'{'Total items count:':<30} {result[\"total_count\"]}')\n",
    "    print(f'{'Items without source count:':<30} {result[\"without_source_count\"]}')"
   ]
  },
  {
   "cell_type": "markdown",
   "source": [
    "$\\fullwidthline$"
   ],
   "metadata": {
    "collapsed": false
   },
   "id": "b5c8082fa5c9bc6e"
  },
  {
   "cell_type": "markdown",
   "source": [
    "We have seen that the data is not ordered in any way. This is why in the next transformation, the data is ordered in ascending order by the item id field. As an example of the re-structured data, the first 5 items are printed, which should now have the lowest 5 appearing id's."
   ],
   "metadata": {
    "collapsed": false
   },
   "id": "759ce29c1734ad7"
  },
  {
   "cell_type": "markdown",
   "source": [
    "$\\fullwidthline$"
   ],
   "metadata": {
    "collapsed": false
   },
   "id": "abac1be532a0bba"
  },
  {
   "cell_type": "code",
   "outputs": [
    {
     "name": "stdout",
     "output_type": "stream",
     "text": [
      "   id             name   class       subclass quality       slot\n",
      "0  25  Worn Shortsword  Weapon          Sword  Common  Main Hand\n",
      "1  35       Bent Staff  Weapon          Staff  Common   Two-Hand\n",
      "2  36        Worn Mace  Weapon           Mace  Common  Main Hand\n",
      "3  37         Worn Axe  Weapon            Axe  Common  Main Hand\n",
      "4  38  Recruit's Shirt   Armor  Miscellaneous  Common      Shirt\n"
     ]
    }
   ],
   "source": [
    "pipeline = [\n",
    "    {\"$sort\": {\"id\": 1}},     # Sort by 'id' in ascending order\n",
    "    {\"$out\": \"wotlk_items\"}   # sorts the existing collection in place\n",
    "]\n",
    "\n",
    "# Run the aggregation pipeline and print a sample output\n",
    "wotlk_items.aggregate(pipeline)\n",
    "\n",
    "pipeline = [\n",
    "    {\"$limit\": 5}   # limit 5 entries\n",
    "]\n",
    "\n",
    "sorted_items = list(wotlk_items.aggregate(pipeline))\n",
    "df = pd.DataFrame(sorted_items)\n",
    "display_columns = ['id', 'name', 'class', 'subclass', 'quality', 'slot']\n",
    "print(df[display_columns])"
   ],
   "metadata": {
    "collapsed": false,
    "ExecuteTime": {
     "end_time": "2024-11-05T17:58:23.531228400Z",
     "start_time": "2024-11-05T17:58:15.743510900Z"
    }
   },
   "id": "10e1fed09fb1082d",
   "execution_count": 24
  },
  {
   "cell_type": "markdown",
   "source": [
    "$\\fullwidthline$"
   ],
   "metadata": {
    "collapsed": false
   },
   "id": "216e5c3b25aa113"
  },
  {
   "cell_type": "markdown",
   "source": [
    "The same transformation is repeated with the zones data. the 195 zones are also not ordered in any way and are now sorted in ascending order by the id field, directly in-place. In the excerpt, we can see that the open-world zones have no category. The example zones Dun Morogh, Badlands, Blasted Lands, Swamp of Sorrows and Duskwood are all non-instanced. The level range also implies that these zones are designated 'leveling-zones', which means that they are designed to advance in the journey of reaching the highest level."
   ],
   "metadata": {
    "collapsed": false
   },
   "id": "9783ca4408057e61"
  },
  {
   "cell_type": "markdown",
   "source": [
    "$\\pagebreak$"
   ],
   "metadata": {
    "collapsed": false
   },
   "id": "446708f9f16eb279"
  },
  {
   "cell_type": "markdown",
   "source": [
    "$\\fullwidthline$"
   ],
   "metadata": {
    "collapsed": false
   },
   "id": "50c2353a0d10d8f4"
  },
  {
   "cell_type": "code",
   "outputs": [
    {
     "name": "stdout",
     "output_type": "stream",
     "text": [
      "   id              name category     level  territory\n",
      "0   1        Dun Morogh     None   [1, 12]   Alliance\n",
      "1   3          Badlands     None  [36, 45]  Contested\n",
      "2   4     Blasted Lands     None  [46, 63]  Contested\n",
      "3   8  Swamp of Sorrows     None  [36, 43]  Contested\n",
      "4  10          Duskwood     None  [10, 30]  Contested\n"
     ]
    }
   ],
   "source": [
    "pipeline = [\n",
    "    {\"$sort\": {\"id\": 1}},     # Sort by 'id' in ascending order\n",
    "    {\"$out\": \"wotlk_zones\"}   # sorts the existing collection in place\n",
    "]\n",
    "\n",
    "# Run the aggregation pipeline and print a sample output\n",
    "wotlk_zones.aggregate(pipeline)\n",
    "\n",
    "pipeline = [\n",
    "    {\"$limit\": 5}   # limit 5 entries\n",
    "]\n",
    "\n",
    "sorted_zones = list(wotlk_zones.aggregate(pipeline))\n",
    "df = pd.DataFrame(sorted_zones)\n",
    "display_columns = ['id', 'name', 'category', 'level', 'territory']\n",
    "print(df[display_columns])"
   ],
   "metadata": {
    "collapsed": false,
    "ExecuteTime": {
     "end_time": "2024-11-05T17:58:27.039443500Z",
     "start_time": "2024-11-05T17:58:26.935132600Z"
    }
   },
   "id": "79f3411a43a435e7",
   "execution_count": 25
  },
  {
   "cell_type": "markdown",
   "source": [
    "$\\fullwidthline$"
   ],
   "metadata": {
    "collapsed": false
   },
   "id": "bd5f89bffec4051e"
  },
  {
   "cell_type": "markdown",
   "source": [
    "With this transformation done, the ELT-process is finished and the data is successfully loaded to MongoDB and transformed into the desired format. In the next section, several aggregation pipelines are used to analyze the data thoroughly."
   ],
   "metadata": {
    "collapsed": false
   },
   "id": "c717cf696ab68abd"
  },
  {
   "cell_type": "markdown",
   "source": [
    "$\\pagebreak$"
   ],
   "metadata": {
    "collapsed": false
   },
   "id": "ec090c5cd079b88b"
  },
  {
   "cell_type": "markdown",
   "id": "bd72d1c8588c22f2",
   "metadata": {},
   "source": [
    "# 5 Data Analysis\n",
    "This analysis mainly focuses on high quality items obtained from raids or dungeons and iconic items in WoW's history, such as legendary equipment or highly sought after quest rewards. Although the data provides much more insight, miscellaneous, common and low-level items are not of key interest in this report."
   ]
  },
  {
   "cell_type": "markdown",
   "source": [
    "## 5.1 Share of wearable items in the data set\n",
    "With respect to the main focus of the analysis, the first simple aggregation pipeline extracts the amount of wearable items. This includes Armour pieces, weapons and trinkets, as previously mentioned. In the dataset, all these items have an assigned slot. All non-wearable items have the string value \"Non-equippable\" assigned to their slot."
   ],
   "metadata": {
    "collapsed": false
   },
   "id": "4c90c4c1183c6e8e"
  },
  {
   "cell_type": "markdown",
   "source": [
    "$\\fullwidthline$"
   ],
   "metadata": {
    "collapsed": false
   },
   "id": "3a2e6f3a9e591f3b"
  },
  {
   "cell_type": "code",
   "execution_count": 98,
   "id": "8eb89fed117baac6",
   "metadata": {
    "ExecuteTime": {
     "end_time": "2024-11-03T16:15:57.058490800Z",
     "start_time": "2024-11-03T16:15:56.940258800Z"
    }
   },
   "outputs": [
    {
     "data": {
      "text/plain": "<Figure size 600x300 with 1 Axes>",
      "image/png": "[encoded data removed]"
     },
     "metadata": {},
     "output_type": "display_data"
    }
   ],
   "source": [
    "wearable_pipeline = [\n",
    "    {\"$match\": {\"slot\": {\"$ne\": \"Non-equippable\"}}},  # Exclude items with \"Non-Equippable\"\n",
    "    {\"$count\": \"wearable_item_count\"}]  # Get count of wearable items \n",
    "\n",
    "wearable_result = list(wotlk_items.aggregate(wearable_pipeline))\n",
    "total_items_count = wotlk_items.count_documents({})\n",
    "wearable_count = wearable_result[0]['wearable_item_count'] if wearable_result else 0\n",
    "share_of_wearable_items = ((wearable_count / total_items_count) \n",
    "                           * 100) if total_items_count > 0 else 0\n",
    "\n",
    "# piechart\n",
    "labels = ['Wearable Items', 'Non-Wearable Items']\n",
    "sizes = [wearable_count, total_items_count - wearable_count]\n",
    "colors = ['#ff9999','#66b3ff']\n",
    "plt.figure(figsize=(6, 3))\n",
    "plt.pie(sizes, labels=labels, colors=colors, autopct='%1.1f%%', shadow=False, startangle=140)\n",
    "plt.axis('equal')  \n",
    "plt.title('Distribution of Wearable vs Non-Wearable Items')\n",
    "plt.show()"
   ]
  },
  {
   "cell_type": "markdown",
   "source": [
    "## 5.2 How many Staves are in the game?\n",
    "The next pipeline looks for staves. These are weapons mainly used by casters. Even though they are not used for combat, they provide massive stat boosts. The pipeline matches the subclass 'Staff', which is the singular term for Staves and counts the amount."
   ],
   "metadata": {
    "collapsed": false
   },
   "id": "c0d7fb1f6ec9e97e"
  },
  {
   "cell_type": "markdown",
   "source": [
    "$\\fullwidthline$"
   ],
   "metadata": {
    "collapsed": false
   },
   "id": "7ea62011f383436a"
  },
  {
   "cell_type": "code",
   "execution_count": 54,
   "id": "396f9d2acebfbe56",
   "metadata": {
    "ExecuteTime": {
     "end_time": "2024-11-02T15:01:45.425747400Z",
     "start_time": "2024-11-02T15:01:45.377157800Z"
    }
   },
   "outputs": [
    {
     "name": "stdout",
     "output_type": "stream",
     "text": [
      "Total number of Staff weapons: 513\n"
     ]
    }
   ],
   "source": [
    "pipeline = [{\"$match\": {\n",
    "             \"subclass\": \"Staff\"}},\n",
    "    {\"$group\": {\n",
    "        \"_id\": None,  # We don't need to group by any specific field\n",
    "        \"staffCount\": {\"$sum\": 1}}},  # Increment count for each staff item\n",
    "    # Project to output the count without the _id\n",
    "    {\"$project\": {\n",
    "        \"_id\": 0,\n",
    "        \"staffCount\": 1}}]\n",
    "\n",
    "# Execute pipeline\n",
    "staff_count_result = list(wotlk_items.aggregate(pipeline))\n",
    "\n",
    "# Extract the count from the result and print it\n",
    "staff_count = staff_count_result[0]['staffCount'] if staff_count_result else 0\n",
    "print(f\"Total number of Staff weapons: {staff_count}\")"
   ]
  },
  {
   "cell_type": "markdown",
   "source": [
    "$\\fullwidthline$"
   ],
   "metadata": {
    "collapsed": false
   },
   "id": "b3dacb7afeed52d7"
  },
  {
   "cell_type": "markdown",
   "source": [],
   "metadata": {
    "collapsed": false
   },
   "id": "602ea6292f74b725"
  },
  {
   "cell_type": "markdown",
   "source": [
    "$\\pagebreak$"
   ],
   "metadata": {
    "collapsed": false
   },
   "id": "22d86c1172d30c3b"
  },
  {
   "cell_type": "markdown",
   "source": [
    "## 5.3 Visualization of all weapons\n",
    "Weapons are always of the highest interest in every WoW expansion. Not only do they have very good modifiers for each class, they also look nice if they are hard to obtain. This is why the next pipeline aggregates all items that are of class weapon and groups by each individual weapon subclass. The visualization is plotted with the matplotlib package."
   ],
   "metadata": {
    "collapsed": false
   },
   "id": "97d5a171e8b76bf7"
  },
  {
   "cell_type": "markdown",
   "source": [
    "$\\fullwidthline$"
   ],
   "metadata": {
    "collapsed": false
   },
   "id": "f51eeb902a758b61"
  },
  {
   "cell_type": "code",
   "outputs": [],
   "source": [
    "pipeline = [\n",
    "    {\"$match\": {\"class\": \"Weapon\"}},  # Filter for weapons\n",
    "    {\"$group\": {\"_id\": \"$subclass\", \"count\": {\"$sum\": 1}}},  # Group by type and count.\n",
    "    {\"$sort\": {\"count\": -1}}  # Sort by count desc\n",
    "]\n",
    "weapon_counts = list(wotlk_items.aggregate(pipeline))\n",
    "subclasses = [item[\"_id\"] for item in weapon_counts]\n",
    "counts = [item[\"count\"] for item in weapon_counts]"
   ],
   "metadata": {
    "collapsed": false,
    "ExecuteTime": {
     "end_time": "2024-11-03T16:20:12.748588200Z",
     "start_time": "2024-11-03T16:20:12.704570900Z"
    }
   },
   "id": "7c0ad73892d8f7b4",
   "execution_count": 100
  },
  {
   "cell_type": "code",
   "outputs": [
    {
     "data": {
      "text/plain": "<Figure size 1000x400 with 1 Axes>",
      "image/png": "[encoded data removed]"
     },
     "metadata": {},
     "output_type": "display_data"
    }
   ],
   "source": [
    "# matplotlib visualization\n",
    "plt.figure(figsize=(10, 4))\n",
    "plt.bar(subclasses, counts, color=\"blue\")\n",
    "plt.xlabel(\"Weapon Type (Subclass)\")\n",
    "plt.ylabel(\"Count\")\n",
    "plt.title(\"Count of Each Weapon Type\")\n",
    "plt.xticks(rotation=45)\n",
    "plt.show()"
   ],
   "metadata": {
    "collapsed": false,
    "ExecuteTime": {
     "end_time": "2024-11-03T16:20:22.853331700Z",
     "start_time": "2024-11-03T16:20:22.727259800Z"
    }
   },
   "id": "23da7f076a2ee0d2",
   "execution_count": 101
  },
  {
   "cell_type": "markdown",
   "source": [
    "The visualization shows that melee weapons such as swords, maces, daggers and axes are much more prevalent than caster weapons such as staves or wands. "
   ],
   "metadata": {
    "collapsed": false
   },
   "id": "a5898fa13e13ba7d"
  },
  {
   "cell_type": "markdown",
   "id": "2705f131908c3fb2",
   "metadata": {},
   "source": [
    "\n",
    "## 5.4 Caster armor pieces in each expansion\n",
    "Since I played as a caster, I want to know which expansion is the most caster friendly one. In each expansion, major rants have been going on where, for example, players of melee classes were not happy with the amount of obtainable items from boss fights for their classes. I had the same feeling during the Wrath of the Lich King expansion, where I had the impression that a significant share of items were not made for casters. \n",
    "\n",
    "This is why in the following pipeline, I extracted all items, which have the source \"boss drop\", since items dropped by bosses of instanced zones had the best modifiers on them. Next, I look for items with subclass cloth. Casters are only allowed to wear cloth items. Then I look for the word 'spell' in the tooltip. Items that offer the best stat boost for casters have tooltips like 'increases spell power by 60' or  in earlier versions of the game 'increases damage done by spells and magic effects by 60'. I also need to filter for the maximum level in each expansion, to distinguish between the three versions of the game. The expansions maximum level by a playable character is 60 for the base game, 70 for the burning crusade and 80 for wrath of the lich king. I also included a quality check. With matching for only <span style=\"color: purple;\">epic</span> or <span style=\"color: orange;\">legendary</span> quality, I make sure that only the best of items appear in the output."
   ]
  },
  {
   "cell_type": "markdown",
   "source": [
    "$\\fullwidthline$"
   ],
   "metadata": {
    "collapsed": false
   },
   "id": "6c69e70be1eefd20"
  },
  {
   "cell_type": "code",
   "execution_count": 17,
   "id": "353f3a693fab420c",
   "metadata": {
    "ExecuteTime": {
     "end_time": "2024-11-03T11:48:42.214170600Z",
     "start_time": "2024-11-03T11:48:42.166841700Z"
    }
   },
   "outputs": [
    {
     "name": "stdout",
     "output_type": "stream",
     "text": [
      "Available caster equipment at level 60: 82\n",
      "Available caster equipment at level 70: 95\n",
      "Available caster equipment at level 80: 57\n"
     ]
    }
   ],
   "source": [
    "pipeline = [{\"$match\": {\n",
    "            \"source.category\": \"Boss Drop\",  # Only boss drop items\n",
    "            \"subclass\": \"Cloth\",             # Only cloth items\n",
    "            # Spell Power (called \"...spells and magic effects...\" in base game and TBC\n",
    "            \"tooltip\": {\"$regex\": \"spell\"},  \n",
    "            \"quality\": {\"$in\": [\"Epic\", \"Legendary\"]}}},  # Only Epic or Legendary quality\n",
    "    # Project only necessary fields\n",
    "    {\"$project\": {\"name\": 1, \"requiredLevel\": 1, \"tooltip\": 1}},\n",
    "    # Match only items for level 60, 70, or 80, to get only the best items\n",
    "    {\"$match\": {\"requiredLevel\": {\"$in\": [60, 70, 80]}}},\n",
    "    # Group by requiredLevel and count the items\n",
    "    {\"$group\": {\"_id\": \"$requiredLevel\", \"count\": {\"$sum\": 1}}}]\n",
    "\n",
    "# Run the aggregation pipeline\n",
    "result = wotlk_items.aggregate(pipeline)\n",
    "\n",
    "# initialise the grouped items count by required level\n",
    "level_60_count = 0\n",
    "level_70_count = 0\n",
    "level_80_count = 0\n",
    "\n",
    "for doc in result:\n",
    "    if doc[\"_id\"] == 60:\n",
    "        level_60_count = doc[\"count\"]\n",
    "    elif doc[\"_id\"] == 70:\n",
    "        level_70_count = doc[\"count\"]\n",
    "    elif doc[\"_id\"] == 80:\n",
    "        level_80_count = doc[\"count\"]\n",
    "\n",
    "print(f\"Available caster equipment at level 60: {level_60_count}\")\n",
    "print(f\"Available caster equipment at level 70: {level_70_count}\")\n",
    "print(f\"Available caster equipment at level 80: {level_80_count}\")"
   ]
  },
  {
   "cell_type": "markdown",
   "source": [
    "$\\fullwidthline$"
   ],
   "metadata": {
    "collapsed": false
   },
   "id": "dd3b78b346980761"
  },
  {
   "cell_type": "markdown",
   "id": "6a7429b95a2e1ac6",
   "metadata": {},
   "source": [
    "It is apparent that with each expansion, the amount of suitable caster items increases. This can be explained by the growing popularity of WoW during these expansions and the addition of more playable content with each expansion. For The burning crusade (level 70) and Wrath of the Lich King (level 80), Each dungeon or raid had additional difficulty levels added. Whereas in the base game (level 60), a raid existed only in one difficulty mode, in The burning crusade, each raid could be done in either normal or heroic mode, and in Wrath of the Lich King, each mode could be played with either 10 or 25 players, adding up to 4 different versions of the same raid. The data does not allow for a distinction between these variants. This is why in Wrath of the Lich King, the amount of items almost tripled.\n",
    " \n",
    "This pipeline excludes the fact that many more <span style=\"color: purple;\">epic</span> or <span style=\"color: orange;\">legendary</span> cloth items are in the game, but they do not have the spell power modifier, which boosts a caster's damage the most. This also means that my assumption that Wrath of the Lich King had less caster items available than the other two installations of WoW is wrong."
   ]
  },
  {
   "cell_type": "markdown",
   "source": [
    "$\\pagebreak$"
   ],
   "metadata": {
    "collapsed": false
   },
   "id": "940daef9eaf577e2"
  },
  {
   "cell_type": "markdown",
   "source": [
    "\n",
    "## 5.5 Bosses with most items\n",
    "\n",
    "I already mentioned that raiding is of key interest at max character level. Raiding in WoW can take multiple hours per week and therefore, maximising the amount of items obtained during a raid is what every player aims for. This is why I created a pipeline that shows the top ten bosses which offer the most items. The pipeline also extracts the name of each boss from the source and the required level."
   ],
   "metadata": {
    "collapsed": false
   },
   "id": "8feeb4a46a9a3369"
  },
  {
   "cell_type": "markdown",
   "source": [
    "$\\fullwidthline$"
   ],
   "metadata": {
    "collapsed": false
   },
   "id": "1101418457511e24"
  },
  {
   "cell_type": "code",
   "execution_count": 58,
   "id": "4e1bfebb795380be",
   "metadata": {
    "ExecuteTime": {
     "end_time": "2024-11-02T15:17:23.816768100Z",
     "start_time": "2024-11-02T15:17:23.734032800Z"
    }
   },
   "outputs": [
    {
     "name": "stdout",
     "output_type": "stream",
     "text": [
      "               Boss Name  Item Count\n",
      "0              Anub'arak         133\n",
      "1          Lord Jaraxxus          97\n",
      "2                Icehowl          88\n",
      "3          The Lich King          60\n",
      "4                 Halion          56\n",
      "5              Festergut          56\n",
      "6  Valithria Dreamwalker          54\n",
      "7         Prince Valanar          54\n",
      "8         Lord Marrowgar          54\n",
      "9      Lady Deathwhisper          54\n"
     ]
    }
   ],
   "source": [
    "# top 10 bosses with most items\n",
    "pipeline = [{\"$match\": {\n",
    "            \"source.category\": \"Boss Drop\"}},\n",
    "        # Group by both the boss name and requiredLevel, and count items\n",
    "        # group by requiredLevel, because some bosses appear in multiple expansions\n",
    "        {\"$group\": {\n",
    "            \"_id\": {\n",
    "                \"bossName\": \"$source.name\",\n",
    "                \"requiredLevel\": \"$requiredLevel\"},\n",
    "            \"itemCount\": {\"$sum\": 1}}},\n",
    "        {\"$sort\": {\"itemCount\": -1}},\n",
    "        {\"$limit\": 10}]\n",
    "\n",
    "# Execute the aggregation pipeline\n",
    "top_bosses = wotlk_items.aggregate(pipeline)\n",
    "\n",
    "# extract values from top_bosses dictionary\n",
    "df = pd.DataFrame([{\n",
    "    \"Boss Name\": boss[\"_id\"][\"bossName\"],\n",
    "    \"Item Count\": boss[\"itemCount\"]\n",
    "} for boss in top_bosses])\n",
    "\n",
    "print(df)"
   ]
  },
  {
   "cell_type": "markdown",
   "source": [
    "$\\pagebreak$"
   ],
   "metadata": {
    "collapsed": false
   },
   "id": "158f8445efcbaa57"
  },
  {
   "cell_type": "markdown",
   "id": "ae1d2303071cd966",
   "metadata": {},
   "source": [
    "## 5.6 Items mapped to zone Naxxramas\n",
    "My favourite raid of all time is Naxxramas, from the base game. Because this raid was only available for a very short amount of time and was extremely hard to complete, the developers re-opened this raid with an increased level requirement in the expansion Wrath of the Lich King. The difficulty was increased to match the newer content, but many iconic items were not re-introduced to the game. This included for example Atiesh, which is mentioned in the Introduction, or the iconic Corrupted Ashbringer.\n",
    "\n",
    "This pipeline filters for the zone id that matches the entry for Naxxramas in the zones file. It then extracts the item and boss name and displays the ten first entries of the aggregation. The match for a required level of 60 is included to make sure that only the base-game version of Naxxramas is considered. "
   ]
  },
  {
   "cell_type": "markdown",
   "source": [
    "$\\fullwidthline$"
   ],
   "metadata": {
    "collapsed": false
   },
   "id": "bf0463f08b40befd"
  },
  {
   "cell_type": "code",
   "execution_count": 102,
   "id": "a7ea8ca33306dd0",
   "metadata": {
    "ExecuteTime": {
     "end_time": "2024-11-03T16:42:17.557641400Z",
     "start_time": "2024-11-03T16:42:17.465142Z"
    }
   },
   "outputs": [
    {
     "name": "stdout",
     "output_type": "stream",
     "text": [
      "                Item                  Boss\n",
      "0  Might of Menethil            Kel'Thuzad\n",
      "1         Soulseeker            Kel'Thuzad\n",
      "2    Brimstone Staff               Loatheb\n",
      "3  Spire of Twilight              Thaddius\n",
      "4          Kingsfall            Kel'Thuzad\n",
      "5      Midnight Haze             Grobbulus\n",
      "6     Maexxna's Fang               Maexxna\n",
      "7    Widow's Remorse  Grand Widow Faerlina\n",
      "8       Wraith Blade               Maexxna\n",
      "9     The Castigator              Thaddius\n"
     ]
    }
   ],
   "source": [
    "# initialise variables to match zone id in wotlk_zones to wotlk_items source\n",
    "zone_name = \"Naxxramas\"\n",
    "zone = db['wotlk_zones'].find_one({\"name\": zone_name})\n",
    "\n",
    "if zone:\n",
    "    zone_id = zone[\"id\"]\n",
    "else:\n",
    "    print(f\"Zone '{zone_name}' not found.\")\n",
    "    zone_id = None\n",
    "\n",
    "if zone_id:\n",
    "    pipeline = [{\"$match\": {\n",
    "                    \"quality\": {\"$in\": [\"Epic\", \"Legendary\"]},\n",
    "                    \"requiredLevel\": 60,\n",
    "                    \"source.zone\": zone_id,  # Filter by zone ID\n",
    "                    \"slot\": {\"$ne\": \"Non-equippable\"}}},  # Ensure that item can be worn\n",
    "        {\"$project\": {\n",
    "                \"Item\": \"$name\",         # Rename field to \"Item Name\"\n",
    "                \"Boss\": \"$source.name\",  # Get the boss name from source\n",
    "                \"_id\": 0 }},             # Exclude the _id field     \n",
    "            {\"$limit\": 10 }]             # Limit the output to 10 items\n",
    "       \n",
    "\n",
    "    # Execute the pipeline\n",
    "    results = list(db['wotlk_items'].aggregate(pipeline))\n",
    "    df = pd.DataFrame(results)\n",
    "    print(df)"
   ]
  },
  {
   "cell_type": "markdown",
   "id": "61cb571fcaa2dd3",
   "metadata": {},
   "source": [
    "## 5.7 Items with the highest intellect boost\n",
    "There are primary and secondary stat boosts on all wearable items. primary stats are only useful for certain classes. A warrior, for example, can make no use of intellect or wisdom. The following primary stats exist:\n",
    "\n",
    "- Strength\n",
    "- Agility\n",
    "- Armor\n",
    "- Stamina\n",
    "- Wisdom\n",
    "- Intellect\n",
    "\n",
    "Whereas Stamina increases a players health points, which is obviously useful for all classes, intellect, on the other hand, increases a player's mana points and the ability to hit critical with spells and magic effects. Therefore, in the next pipeline, I filter the tooltip for the intellect boost, which can look as follows.\n",
    "\n",
    "'+45 Intellect'\n",
    "\n",
    "There are also items, which belong to a set. Depending on how many set-pieces a player owns, more stat boosts are available. For example, if a player owns 5 pieces of a set, the tooltip of the set-benefit can look as follows:\n",
    "\n",
    "'Set(5): +10 Intellect'\n",
    "\n",
    "This tooltip is ignored by the next pipeline, since I am not interested in them. Next, the integer value of the main Intellect boost is extracted and the 10 items with the highest intellect boost over all are extracted."
   ]
  },
  {
   "cell_type": "markdown",
   "source": [
    "$\\pagebreak$"
   ],
   "metadata": {
    "collapsed": false
   },
   "id": "4cc6a21dd1b1e74f"
  },
  {
   "cell_type": "code",
   "execution_count": 89,
   "id": "3ee1c8150283a05c",
   "metadata": {
    "ExecuteTime": {
     "end_time": "2024-10-31T12:46:06.585838300Z",
     "start_time": "2024-10-31T12:46:06.349022800Z"
    }
   },
   "outputs": [
    {
     "name": "stdout",
     "output_type": "stream",
     "text": [
      "Top 10 Items with Highest Intellect Boost:\n",
      "*****************************************************\n",
      "                                 name intellect_boost\n",
      "0                            Clemency  +153 Intellect\n",
      "1                          Sufferance  +153 Intellect\n",
      "2          Sanctified Dark Coven Hood  +139 Intellect\n",
      "3    Sanctified Frost Witch's Hauberk  +139 Intellect\n",
      "4        Corp'rethar Ceremonial Crown  +139 Intellect\n",
      "5      Sanctified Dark Coven Leggings  +139 Intellect\n",
      "6          Sanctified Dark Coven Robe  +139 Intellect\n",
      "7  Sanctified Frost Witch's Legguards  +139 Intellect\n",
      "8       Sanctified Frost Witch's Helm  +139 Intellect\n",
      "9       Sanctified Frost Witch's Kilt  +139 Intellect\n"
     ]
    }
   ],
   "source": [
    "# pipeline to extract intellect boosts, extract the \n",
    "# integer value from string and display 10 best items\n",
    "pipeline = [\n",
    "    {'$match': {'tooltip': {\n",
    "                '$elemMatch': {\n",
    "                    # Match only intellect boosts via regex\n",
    "                    # starting with +, any number and 'Intellect'\n",
    "                    '$regex': r'^\\+\\d+\\s*Intellect$',  \n",
    "                    '$options': 'i'}}}}, # non case sensitive\n",
    "    {'$project': {'id': 1, 'name': 1,\n",
    "                  'intellect_boost': {'$arrayElemAt': [{'$filter': {\n",
    "                            'input': '$tooltip',\n",
    "                            'as': 'tooltip_item',\n",
    "                            'cond': {'$regexMatch': {\n",
    "                            'input': '$$tooltip_item',\n",
    "                            # Ensure it matches only this format and ignores sets\n",
    "                            'regex': r'^\\+\\d+\\s*Intellect$',\n",
    "                            # Get the first tooltip with intellect boost\n",
    "                            'options': 'i'}}}},0]}}},\n",
    "    {'$addFields':\n",
    "         {'intellect_value':\n",
    "              {'$convert':\n",
    "                   {'input':\n",
    "                        {'$arrayElemAt':\n",
    "                             [{'$split': ['$intellect_boost',' ']},\n",
    "                            # Take the first element, which is only the number\n",
    "                            # convert this number to int to be able to sort\n",
    "                            0]}, 'to': 'int' }}}},\n",
    "    {'$sort': {'intellect_value': -1}},\n",
    "    {'$limit': 10 }]\n",
    "\n",
    "# Execution of the pipeline\n",
    "top_intellect_items = list(wotlk_items.aggregate(pipeline))\n",
    "df = pd.DataFrame(top_intellect_items)\n",
    "df = df[['name', 'intellect_boost']]\n",
    "\n",
    "# Print output\n",
    "print(\"Top 10 Items with Highest Intellect Boost:\")\n",
    "print(53*'*')\n",
    "print(df)"
   ]
  },
  {
   "cell_type": "markdown",
   "id": "5905fc826dc711e8",
   "metadata": {},
   "source": [
    "The items Clemency and Sufferance are in fact the same item. They just change appearances depending on the faction a player belongs to. Clemency is the <span style=\"color: blue;\">Alliance</span> version, whereas Sufferance is the <span style=\"color: red;\">Horde</span> variant. The ingame tooltip of Sufferance looks as follows and confirms the intellect boost.\n",
    "\n",
    "![Sufferance](./images/Sufferance.png)\n",
    "\n",
    "These items are very sought after by all caster classes, but they are also extremely hard to get. The items are only obtainable from a chest after beating all bosses in a very hard raid in Wrath of the Lich King. The chest howewer, only appears if nobody died during the whole raid. Having players die in boss-fights is common and can only be avoided when each fight is planned out meticulously and everybody knows the game so well that they could play blindfolded. "
   ]
  },
  {
   "cell_type": "markdown",
   "source": [
    "$\\pagebreak$"
   ],
   "metadata": {
    "collapsed": false
   },
   "id": "5b2500ba189f5647"
  },
  {
   "cell_type": "markdown",
   "id": "2105e6cf6785cd2f",
   "metadata": {},
   "source": [
    "## 5.8 Legendary items and their sources\n",
    "\n",
    "In the next pipeline, I am looking for legendary items. It is always a jaw-dropper if a player with a legendary item is passing by. This is why all legendary items are being displayed, not just caster focused legendaries. This is manily done by filtering for quality.\n",
    "\n",
    "I also need to filter for slot, since I only want to display items that can be worn. Many quest items are also of legendary quality, such as fragments of some legendary weapons, which a player needs to collect in order to obtain the actual legendary weapon in the end. An example of this is Shadowmourne. A legendary axe which is assembled by looting 40 fragments from bosses, which have a very low drop-chance. Lastly, I ignore all items from the zone Tempest Keep. This is a unique zone which offers special legendary weapons to each player to fight the boss Kael'Thas Sunstrider. These weapons diasppear 15 minutes after obtaining them and are only intended for this fight alone."
   ]
  },
  {
   "cell_type": "markdown",
   "source": [
    "$\\fullwidthline$"
   ],
   "metadata": {
    "collapsed": false
   },
   "id": "b0065d292117af9"
  },
  {
   "cell_type": "code",
   "execution_count": 105,
   "id": "f3c65b1a230f0955",
   "metadata": {
    "ExecuteTime": {
     "end_time": "2024-11-03T17:14:20.594728400Z",
     "start_time": "2024-11-03T17:14:20.540925900Z"
    }
   },
   "outputs": [
    {
     "name": "stdout",
     "output_type": "stream",
     "text": [
      "Legendary Items, Source, and Zone:\n",
      "****************************************************************************\n",
      "                                            name     source        zone_name\n",
      "0                     Sulfuras, Hand of Ragnaros        NaN              NaN\n",
      "1   Thunderfury, Blessed Blade of the Windseeker      Quest              NaN\n",
      "2             Atiesh, Greatstaff of the Guardian      Quest              NaN\n",
      "3             Atiesh, Greatstaff of the Guardian      Quest              NaN\n",
      "4             Atiesh, Greatstaff of the Guardian      Quest              NaN\n",
      "5             Atiesh, Greatstaff of the Guardian      Quest              NaN\n",
      "6                     Andonisus, Reaper of Souls        NaN              NaN\n",
      "7                          Warglaive of Azzinoth  Boss Drop     Black Temple\n",
      "8                          Warglaive of Azzinoth  Boss Drop     Black Temple\n",
      "9                     Thori'dal, the Stars' Fury  Boss Drop  Sunwell Plateau\n",
      "10             Val'anyr, Hammer of Ancient Kings      Quest              NaN\n",
      "11                                  Shadowmourne      Quest              NaN\n",
      "12                    Ashbringer (Extra Effects)        NaN              NaN\n"
     ]
    }
   ],
   "source": [
    "pipeline = [\n",
    "    {'$match': {\n",
    "            'quality': 'Legendary',  # Filter for legendary items\n",
    "            'slot': {'$ne': 'Non-equippable'}, # Exclude items which are not wearable\n",
    "            'source.zone': {'$ne': 3845}       # exclude Tempest Keep zone id\n",
    "        }},\n",
    "    {'$lookup': {\n",
    "        'from': 'wotlk_zones',  # Join with the zones collection\n",
    "        'localField': 'source.zone',  # Field in items to match (for boss drop sources only)\n",
    "        'foreignField': 'id',  # Field in zones to match\n",
    "        'as': 'zone_info'}},  # Output array with matching zone info\n",
    "    {'$unwind': {\n",
    "            'path': '$zone_info',\n",
    "            # Allow items without a zone, such as items from quests \n",
    "            'preserveNullAndEmptyArrays': True}},   \n",
    "    {'$project': {\n",
    "        'name': 1,\n",
    "            # Determine if the source is a quest or a boss drop\n",
    "            'source': {\n",
    "                '$cond': {\n",
    "                    'if': {'$eq': ['$source.category', 'Quest']},\n",
    "                    'then': 'Quest',\n",
    "                    'else': '$source.category'}},\n",
    "            'zone_name': '$zone_info.name'  # Extract the zone name from the joined data\n",
    "        }}]  # Extract the zone name from the joined data\n",
    "        \n",
    "        \n",
    "# Execute the aggregation pipeline\n",
    "legendary_items = list(wotlk_items.aggregate(pipeline))\n",
    "df = pd.DataFrame(legendary_items)\n",
    "df = df[['name', 'source', 'zone_name']]\n",
    "\n",
    "# Print the DataFrame\n",
    "print(\"Legendary Items, Source, and Zone:\")\n",
    "print(76*'*')\n",
    "print(df)"
   ]
  },
  {
   "cell_type": "markdown",
   "source": [
    "$\\fullwidthline$"
   ],
   "metadata": {
    "collapsed": false
   },
   "id": "91c4eac87c477081"
  },
  {
   "cell_type": "markdown",
   "id": "a7be30cc5a3fec9b",
   "metadata": {},
   "source": [
    "\n",
    "Now why do items such as Atiesh and Warglaive of Azzinoth appear multiple times? Atiesh is obtained through a quest, which can be done by multiple classes such as Druids, Priests, Warlocks and Mages. The quest is different for each class, this is why the weapon appears 4 times. The Warglaive of Azzinoth does exist twice. Those are one-handed swords and a version for the left and the right hand exist which have the same name. When a player with both warglaives passes by, we take a screenshot of it, this is why I must include an image of them.\n",
    "\n",
    "![Glaive](./images/glaives.png)\n",
    "\n",
    "As already mentioned, items which are obtainable through a quest have no zone in the source information. Items which have no source at all are created by a special action. For example, to get Sulfuras, Hand of Ragnaros, a player needs to craft a Hammer of epic quality and combine it with a miscellaneous item obtained from the Boss Ragnaros to create the legendary hammer Sulfuras."
   ]
  },
  {
   "cell_type": "markdown",
   "source": [
    "$\\pagebreak$"
   ],
   "metadata": {
    "collapsed": false
   },
   "id": "96e6bca12b3c64e2"
  },
  {
   "cell_type": "markdown",
   "source": [
    "## 5.9 Highest selling items\n",
    "Money is always of interest in WoW. This is why in this pipeline, I want to find the top 10 selling items in WoW. This is done by looking up the selling price. The datatype is integer. The currency in WoW is called 'Gold'. But gold is only one part. 100 copper equals 1 silver. 100 silver equals 1 gold. The sell price in this data set is the value in copper. This pipeline also filters for items that are obtainable from bosses. "
   ],
   "metadata": {
    "collapsed": false
   },
   "id": "31c8f61ddc6d0ae7"
  },
  {
   "cell_type": "markdown",
   "source": [
    "$\\fullwidthline$"
   ],
   "metadata": {
    "collapsed": false
   },
   "id": "e53f6494f9ad1256"
  },
  {
   "cell_type": "code",
   "execution_count": 34,
   "id": "740b0247332b9b4",
   "metadata": {
    "ExecuteTime": {
     "end_time": "2024-10-31T09:06:35.386824400Z",
     "start_time": "2024-10-31T09:06:35.316886400Z"
    }
   },
   "outputs": [
    {
     "name": "stdout",
     "output_type": "stream",
     "text": [
      "                                        name             formattedSellPrice\n",
      "0                Bryntroll, the Bone Arbiter  34 gold, 83 silver, 29 copper\n",
      "1                                   Nibelung  34 gold, 72 silver, 26 copper\n",
      "2   Oathbinder, Charge of the Ranger-General   34 gold, 36 silver, 7 copper\n",
      "3                                Dying Light  34 gold, 33 silver, 81 copper\n",
      "4   Oathbinder, Charge of the Ranger-General  33 gold, 90 silver, 76 copper\n",
      "5            Archus, Greatstaff of Antonidas  33 gold, 40 silver, 42 copper\n",
      "6                                   Nibelung  33 gold, 38 silver, 81 copper\n",
      "7                        Warmace of Menethil  33 gold, 38 silver, 52 copper\n",
      "8                                 Cryptmaker  33 gold, 38 silver, 18 copper\n",
      "9  Glorenzelg, High-Blade of the Silver Hand  33 gold, 27 silver, 75 copper\n"
     ]
    }
   ],
   "source": [
    "pipeline = [\n",
    "    # Filter to include only items with source category \"Boss Drop\" and sellPrice > 0\n",
    "    {\"$match\": {\"sellPrice\": {\"$gt\": 0}, \"source.category\": \"Boss Drop\"}},\n",
    "    {\"$sort\": {\"sellPrice\": -1}},\n",
    "    {\"$limit\": 10},\n",
    "    # Project fields with formatted gold, silver, copper breakdown\n",
    "    {\"$project\": {\n",
    "            \"_id\": 0,  # Exclude the _id field\n",
    "            \"name\": 1,\n",
    "            \"sellPrice\": 1,\n",
    "            \"gold\": {\"$floor\": {\"$divide\": [\"$sellPrice\", 10000]}},\n",
    "            \"silver\": {\"$floor\": {\"$mod\": [{\"$divide\": [\"$sellPrice\", 100]}, 100]}},\n",
    "            \"copper\": {\"$mod\": [\"$sellPrice\", 100]},}},\n",
    "    # Create a formatted sellPrice string\n",
    "    {\"$addFields\": {\n",
    "        \"formattedSellPrice\": {\n",
    "            \"$concat\": [\n",
    "                {\"$toString\": \"$gold\"}, \" gold, \",\n",
    "                {\"$toString\": \"$silver\"}, \" silver, \",\n",
    "                {\"$toString\": \"$copper\"}, \" copper\"]}}},\n",
    "    # Final projection to include only relevant fields in the output\n",
    "    {\"$project\": {\"name\": 1, \"formattedSellPrice\": 1}}]\n",
    "\n",
    "# Execute the pipeline\n",
    "top_items = list(wotlk_items.aggregate(pipeline))\n",
    "\n",
    "# Convert to a pandas DataFrame for better display\n",
    "df = pd.DataFrame(top_items)\n",
    "print(df)\n"
   ]
  },
  {
   "cell_type": "markdown",
   "source": [
    "$\\fullwidthline$"
   ],
   "metadata": {
    "collapsed": false
   },
   "id": "7cd1fef289e10824"
  },
  {
   "cell_type": "markdown",
   "source": [
    "We can see that certain items appear twice. This is due to the fact that these items are from Wrath of the Lich King raid bosses. As already mentioned, in this expansion pack, a raid appears in four difficulty levels. The obtainable items have the same name, but different modifiers depending on the raid difficulty. Unfortunately, there is no information about the difficulty level in this data. The selling price suggests that the higher selling item is obtained from the higher difficulty level raid. We can again check a screenshot of an ingame tooltip to verify the sell price conversion.\n",
    "\n",
    "![Bryntroll](./images/bryntroll.png)"
   ],
   "metadata": {
    "collapsed": false
   },
   "id": "9c92a12e1942e39b"
  },
  {
   "cell_type": "markdown",
   "source": [
    "$\\pagebreak$"
   ],
   "metadata": {
    "collapsed": false
   },
   "id": "c0d8679f168ef46f"
  },
  {
   "cell_type": "markdown",
   "source": [
    "## 5.10 A tribute to dungeons - with index creation\n",
    "WoW does not only have raids as high difficulty, high reward zones. There are less difficult instanced zones for five player groups, which are called Dungeons. These also offer higher quality items which offer a good starting point before a player starts with raids. Unlike raids, dungeons can be entered before reaching the highest level. Some Dungeons can be entered already at level 16. This pipeline aggregates the amount of items that can be obtained from each zone that is of zone category 'Dungeon'. To show that they are not only for max level players, I also extract the minimal required level a player needs to wear items from these Dungeons. This information is extracted from the 'requiredLevel' field in the items data. Since this aggregation pipeline turned out to be quite extensive and the data set overall is moderate in size, indices were created to speed up performance."
   ],
   "metadata": {
    "collapsed": false
   },
   "id": "86b008e887c80ed8"
  },
  {
   "cell_type": "markdown",
   "source": [
    "$\\fullwidthline$"
   ],
   "metadata": {
    "collapsed": false
   },
   "id": "8da0dd05797c2ccc"
  },
  {
   "cell_type": "code",
   "outputs": [],
   "source": [
    "# index creation. first on source category, zone slot and level requirement\n",
    "wotlk_items.create_index([\n",
    "    (\"source.category\", pymongo.ASCENDING),\n",
    "    (\"source.zone\", pymongo.ASCENDING),\n",
    "    (\"slot\", pymongo.ASCENDING),\n",
    "    (\"requiredLevel\", pymongo.ASCENDING)])\n",
    "# Index on wotlk_zones collection to improve join performance in lookup stage\n",
    "wotlk_zones.create_index([\n",
    "    (\"id\", pymongo.ASCENDING),        \n",
    "    (\"category\", pymongo.ASCENDING)]);                                 "
   ],
   "metadata": {
    "collapsed": false,
    "ExecuteTime": {
     "end_time": "2024-11-03T11:47:49.106949900Z",
     "start_time": "2024-11-03T11:47:49.023262Z"
    }
   },
   "id": "8c3ba1bd817f5a6c",
   "execution_count": 16
  },
  {
   "cell_type": "code",
   "outputs": [
    {
     "name": "stdout",
     "output_type": "stream",
     "text": [
      "   itemCount  minRequiredLevel                    zoneName\n",
      "0        140                51             Blackrock Spire\n",
      "1        121                47            Blackrock Depths\n",
      "2        111                50                   Dire Maul\n",
      "3        108                52                  Stratholme\n",
      "4         71                54                 Scholomance\n",
      "5         54                63                The Underbog\n",
      "6         50                70          Magisters' Terrace\n",
      "7         48                64                  Mana-Tombs\n",
      "8         47                76          Halls of Lightning\n",
      "9         44                70  Ahn'kahet: The Old Kingdom\n"
     ]
    }
   ],
   "source": [
    "pipeline = [{\"$match\": {\n",
    "            \"source.category\": \"Boss Drop\",\n",
    "            \"source.zone\": {\"$exists\": True},\n",
    "            \"slot\": {\"$ne\": \"Non-equippable\"},\n",
    "            \"requiredLevel\": {\"$gt\": 0}}},  # Exclude items without level requirements\n",
    "    # Lookup to join zones collection to get zone details\n",
    "    {\"$lookup\": {\n",
    "            \"from\": \"wotlk_zones\",\n",
    "            \"localField\": \"source.zone\",\n",
    "            \"foreignField\": \"id\",\n",
    "            \"as\": \"zone_info\"}},\n",
    "    {\"$unwind\": \"$zone_info\"},\n",
    "    {\"$match\": {\"zone_info.category\": \"Dungeon\"}},\n",
    "    {\"$group\": {\n",
    "            \"_id\": \"$zone_info.name\",\n",
    "            \"itemCount\": {\"$sum\": 1},\n",
    "            \"minRequiredLevel\": {\"$min\": \"$requiredLevel\"}}},\n",
    "    {\"$sort\": {\"itemCount\": -1}},\n",
    "    {\"$limit\": 10},\n",
    "    {\"$project\": {\n",
    "            \"_id\": 0,\n",
    "            \"zoneName\": \"$_id\",\n",
    "            \"itemCount\": 1,\n",
    "            \"minRequiredLevel\": 1}}]\n",
    "\n",
    "# Execute pipeline\n",
    "top_dungeon_zones = list(wotlk_items.aggregate(pipeline))\n",
    "df = pd.DataFrame(top_dungeon_zones)\n",
    "print(df)"
   ],
   "metadata": {
    "collapsed": false,
    "ExecuteTime": {
     "end_time": "2024-11-03T11:47:32.184330500Z",
     "start_time": "2024-11-03T11:47:31.631217500Z"
    }
   },
   "id": "e7d25b10ad04a541",
   "execution_count": 15
  },
  {
   "cell_type": "markdown",
   "source": [
    "$\\fullwidthline$"
   ],
   "metadata": {
    "collapsed": false
   },
   "id": "b341a39698683bc3"
  },
  {
   "cell_type": "markdown",
   "source": [
    "This shows that Dungeons from the base game offered many more items than later versions and were in fact much larger. The five dungeons that offer the most items can be entered at levels below 60, whereas the Dungeons on ranks 5 to 10 can be entered only after reaching level 60. As a player myself, I can confirm that a 5-player Dungeon like Blackrock Depths was much more time-consuming than a basic 25-player raid of the Wrath of the Lich King expansion. "
   ],
   "metadata": {
    "collapsed": false
   },
   "id": "b9d0daac07017387"
  },
  {
   "cell_type": "markdown",
   "source": [
    "$\\pagebreak$"
   ],
   "metadata": {
    "collapsed": false
   },
   "id": "4de7aa7d2d139a59"
  },
  {
   "cell_type": "markdown",
   "source": [
    "## 5.11 Armor sets\n",
    "We have already seen that some wearable items belong to a set. In this pipeline, I want to see how many armor sets there are. All armor pieces that belong to a set have a corresponding tooltip that indicates this, such as 'setname (0/5)' indicating that 5 pieces belong to this armor set. "
   ],
   "metadata": {
    "collapsed": false
   },
   "id": "41cfb92d2f14829a"
  },
  {
   "cell_type": "markdown",
   "source": [
    "$\\fullwidthline$"
   ],
   "metadata": {
    "collapsed": false
   },
   "id": "f931dd99597ab5d4"
  },
  {
   "cell_type": "code",
   "outputs": [
    {
     "name": "stdout",
     "output_type": "stream",
     "text": [
      "First 10 armor sets:\n",
      "****************************************\n",
      "Furious Gladiator's Wildhide \n",
      "Seer's Linked Battlegear \n",
      "Merciless Gladiator's Vestments \n",
      "Valorous Earthshatter Battlegear \n",
      "Lightforge Armor \n",
      "Shiny Shard of the Gods \n",
      "Gladiator's Wartide \n",
      "Emblems of Veiled Shadows \n",
      "Merciless Gladiator's Wildhide \n",
      "Heroes' Dreamwalker Battlegear \n",
      "****************************************\n",
      "Total amount of armor sets: 704\n"
     ]
    }
   ],
   "source": [
    "pipeline = [{\"$match\": {\n",
    "            \"tooltip\": {\n",
    "                \"$regex\": r\".*\\(\\d+\\/\\d+\\).*\"}}}, # regex '(0/5)' can be any number\n",
    "    # Project to include  matching tooltips\n",
    "    {\"$project\": {\n",
    "            \"set_info\": {\n",
    "                \"$filter\": {\n",
    "                    \"input\": \"$tooltip\",\n",
    "                    \"as\": \"tooltip_item\",\n",
    "                    \"cond\": {\n",
    "                        \"$regexMatch\": {\n",
    "                            \"input\": \"$$tooltip_item\",\n",
    "                            # Find strings indicating set information\n",
    "                            \"regex\": r\".*\\(\\d+\\/\\d+\\)\"}}}}}},\n",
    "    {\"$unwind\": \"$set_info\"}, # Unwind the set_info to separate entries\n",
    "    {\"$group\": {\"_id\": \"$set_info\",}},  # Group to get unique sets\n",
    "    ]\n",
    "# Execute the pipeline\n",
    "armor_set_results = list(wotlk_items.aggregate(pipeline))\n",
    "\n",
    "# Print the results in the desired format\n",
    "print('First 10 armor sets:')\n",
    "print(40 * '*')\n",
    "for i, armor_set in enumerate(armor_set_results):\n",
    "    if i >= 10:  # Stop after 10 entries\n",
    "        break\n",
    "    print(armor_set['_id'][:-5])  # Ignore the last 5 characters\n",
    "print(40 * '*')\n",
    "print('Total amount of armor sets: ' + str(len(armor_set_results)))"
   ],
   "metadata": {
    "collapsed": false,
    "ExecuteTime": {
     "end_time": "2024-11-03T17:32:39.166280300Z",
     "start_time": "2024-11-03T17:32:38.895730100Z"
    }
   },
   "id": "4f73cfcbab1ffb28",
   "execution_count": 110
  },
  {
   "cell_type": "markdown",
   "source": [
    "## 5.12 Extraction of a recipe\n",
    "Since I extracted all the information of the key 'CreatedBy' and altered it to 'recipe' I want to work with this information as well. The last aggregation pipeline makes the recipe more human-readable. Instead of item-id's, the item name and the corresponding amount is extracted and printed. For this, a specific item is matched. I chose an item I did craft myself back in the days, which was the epic Sulfuron Hammer. The one that is needed to create the legendary Sulfuras, Hand of Ragnaros. "
   ],
   "metadata": {
    "collapsed": false
   },
   "id": "1211c837d6285351"
  },
  {
   "cell_type": "markdown",
   "source": [
    "$\\fullwidthline$"
   ],
   "metadata": {
    "collapsed": false
   },
   "id": "8149acd2bf814d7"
  },
  {
   "cell_type": "code",
   "outputs": [
    {
     "name": "stdout",
     "output_type": "stream",
     "text": [
      "Recipe for Sulfuron Hammer:\n",
      "------------------------------\n",
      "Reagent                Amount\n",
      "------------------------------\n",
      "Sulfuron Ingot         8x\n",
      "Dark Iron Bar          20x\n",
      "Arcanite Bar           50x\n",
      "Essence of Fire        25x\n",
      "Blood of the Mountain  10x\n",
      "Lava Core              10x\n",
      "Fiery Core             10x\n"
     ]
    }
   ],
   "source": [
    "pipeline = [\n",
    "    # Match the specific item Sulfuron Hammer with id 17193\n",
    "    {\"$match\": {\"id\": 17193}},\n",
    "    {\"$unwind\": \"$recipe\"}, # Unwind `recipe` array to access recipe details\n",
    "    {\"$unwind\": \"$recipe.reagents\"}, # Unwind the `reagents` array to access each reagent\n",
    "    {\"$lookup\": { # Self-lookup to join with the same collection\n",
    "        \"from\": \"wotlk_items\",\n",
    "        \"localField\": \"recipe.reagents.itemId\",\n",
    "        \"foreignField\": \"id\",\n",
    "        \"as\": \"reagent_info\"}},\n",
    "    {\"$unwind\": \"$reagent_info\"}, # Unwind `reagent_info` to access each reagent item\n",
    "    {\"$project\": {\"_id\": 0, \"recipe\": { # Project to show each reagent's name and amount\n",
    "            \"name\": \"$reagent_info.name\",\n",
    "            \"amount\": \"$recipe.reagents.amount\"}}},\n",
    "    {\"$group\": {\"_id\": None,\n",
    "        \"recipe\": {\"$push\": {\"name\": \"$recipe.name\", \"amount\": \"$recipe.amount\"}}}},\n",
    "    {\"$project\": {\"_id\": 0, \"recipe\": \"$recipe\"}}]\n",
    "\n",
    "result = list(wotlk_items.aggregate(pipeline)) # execute\n",
    "print('Recipe for Sulfuron Hammer:') # print nicely formatted\n",
    "print(30*'-')\n",
    "if result and \"recipe\" in result[0]:\n",
    "    max_name_length = max(len(entry[\"name\"]) for entry in result[0][\"recipe\"])\n",
    "    print(\"Reagent\".ljust(max_name_length) + \"  Amount\")\n",
    "    print(\"-\" * (max_name_length + 9))\n",
    "    for entry in result[0][\"recipe\"]:\n",
    "        print(f\"{entry['name'].ljust(max_name_length)}  {entry['amount']}x\")\n",
    "else:\n",
    "    print(\"No recipe information found for this item.\")"
   ],
   "metadata": {
    "collapsed": false,
    "ExecuteTime": {
     "end_time": "2024-11-05T18:15:37.360422600Z",
     "start_time": "2024-11-05T18:15:37.094166200Z"
    }
   },
   "id": "3e2849744326e237",
   "execution_count": 45
  },
  {
   "cell_type": "markdown",
   "source": [
    "$\\fullwidthline$"
   ],
   "metadata": {
    "collapsed": false
   },
   "id": "620e0c80f5806185"
  },
  {
   "cell_type": "markdown",
   "source": [
    "## 5.13 Going further - Most used items in Crafting\n",
    "Wouldn't it be nice to check how many reagents are needed if a player were to craft every single craftable item in the game? In this last pipeline, I match for all craftable items, unwind the recipe and reagents, group by each reagent id, look up the item id in the same collection and sum them up. Since this list would be extensive, the output is again limited to the top ten most used reagents."
   ],
   "metadata": {
    "collapsed": false
   },
   "id": "9c27eed178edbaf5"
  },
  {
   "cell_type": "markdown",
   "source": [
    "$\\fullwidthline$"
   ],
   "metadata": {
    "collapsed": false
   },
   "id": "6c9bb268f2512610"
  },
  {
   "cell_type": "code",
   "outputs": [
    {
     "name": "stdout",
     "output_type": "stream",
     "text": [
      "Top 10 most needed items to craft every item once:\n",
      "-------------------------------------\n",
      "Reagent                 Total Amount\n",
      "-------------------------------------\n",
      "Thorium Bar             1229x\n",
      "Rugged Leather          1135x\n",
      "Saronite Bar            890x\n",
      "Heavy Borean Leather    880x\n",
      "Heavy Knothide Leather  852x\n",
      "Mithril Bar             657x\n",
      "Thick Leather           575x\n",
      "Primal Air              501x\n",
      "Primal Fire             489x\n",
      "Primal Life             461x\n"
     ]
    }
   ],
   "source": [
    "pipeline = [\n",
    "    # Match only items with a recipe (craftable items), unwind same as before\n",
    "    {\"$match\": {\"recipe\": {\"$exists\": True, \"$ne\": []}}},\n",
    "    {\"$unwind\": \"$recipe\"},\n",
    "    {\"$unwind\": \"$recipe.reagents\"},\n",
    "    {\"$group\": { # group by each reagent id\n",
    "        \"_id\": \"$recipe.reagents.itemId\",\n",
    "        \"totalAmount\": {\"$sum\": \"$recipe.reagents.amount\"}}},\n",
    "    {\"$sort\": {\"totalAmount\": -1}}, # Sort by total amount in descending order\n",
    "    {\"$limit\": 10},\n",
    "    {\"$lookup\": { # Lookup to retrieve the items for top reagents\n",
    "            \"from\": \"wotlk_items\",\n",
    "            \"localField\": \"_id\",\n",
    "            \"foreignField\": \"id\",\n",
    "            \"as\": \"reagent_info\"}},\n",
    "    {\"$unwind\": \"$reagent_info\"}, # Unwind reagent_info to access name details\n",
    "    {\"$project\": {\n",
    "        \"_id\": 0,\n",
    "        \"name\": \"$reagent_info.name\",\n",
    "        \"totalAmount\": 1}}]\n",
    "\n",
    "top_reagents = list(wotlk_items.aggregate(pipeline))\n",
    "max_name_length = max(len(entry[\"name\"]) for entry in top_reagents)\n",
    "print('Top 10 most needed items to craft every item once:')\n",
    "print(\"-\" * (max_name_length + 15))\n",
    "print(\"Reagent\".ljust(max_name_length) + \"  Total Amount\")\n",
    "print(\"-\" * (max_name_length + 15))\n",
    "\n",
    "for entry in top_reagents:\n",
    "    print(f\"{entry['name'].ljust(max_name_length)}  {entry['totalAmount']}x\")\n"
   ],
   "metadata": {
    "collapsed": false,
    "ExecuteTime": {
     "end_time": "2024-11-05T18:43:31.804943Z",
     "start_time": "2024-11-05T18:43:31.383622600Z"
    }
   },
   "id": "83dcadb41f2148be",
   "execution_count": 51
  },
  {
   "cell_type": "markdown",
   "source": [
    "# 6 Conclusion\n",
    "The ELT process of this project did run smoothly without any issues. Some minor transformations were needed to enhance data quality, unfortunately, not all issues were resolved. For the scope of this report, the performed transformations were sufficient. More on the source of the items could have been done, but not without major tweaks on thousands of individual items. \n",
    "\n",
    "The analysis of the data was performed with 13 pymongo aggregation pipelines. The data would allow for much more. Further distinction between the items of the base game and the two expansions could be made, more in-depth analysis of craftable items and their recipes or a thorough price analysis could offer many more valuable insights. Going even deeper, it could be analysed which in-game zone offers the highest monetary reward according to the obtainable items in the zone.\n",
    "\n",
    "To conclude, this project provided many insights and learnings and I can imagine myself analysing this data further to increase the newly gained knowledge about pymongo aggregation pipelines and NoSQL in general.\n"
   ],
   "metadata": {
    "collapsed": false
   },
   "id": "52362a3b29a309e7"
  },
  {
   "cell_type": "markdown",
   "source": [
    "# 7 Lessons Learned\n",
    "\n",
    "This was a fun and educational project. My main technical learnings are the deep-dive into the aggregation pipelines. After getting used to the top-level structure of 'match', 'unwind', 'group', 'sort', 'project' and 'limit', the possibilities are near endless and with each pipeline done, there were more things I wanted to explore. I had tremendous difficulties learning the syntax during the Datacamp course, but with this project, I gut used to it and only had to look up the special syntax in the end, like regular expressions and conditions.\n",
    "\n",
    "Furthermore, this project again showed how important data quality is. I faced many issues because the structure of the data was not identical for all documents. I could eliminate some of these issues in the extract and transform phase, but unfortunately not all of them. Missing item sources was the biggest issue of all, because this did not allow to create nice outputs for all the pipelines. Since I was very interested in the aggregation and the data itself, I still left these aggregation pipelines in the report, such as the one where the source of legendary items is displayed.\n",
    "\n",
    "Overall, this project allowed me to get used to NoSQL and MongoDB in the first place, which I have never used before. I like it better than SQL and can imagine myself doing other projects with NoSQL in the future.\n"
   ],
   "metadata": {
    "collapsed": false
   },
   "id": "75c1f52fc3c42559"
  },
  {
   "cell_type": "code",
   "outputs": [],
   "source": [],
   "metadata": {
    "collapsed": false
   },
   "id": "1d003e0e04bbe11b"
  }
 ],
 "metadata": {
  "kernelspec": {
   "display_name": "Python 3 (ipykernel)",
   "language": "python",
   "name": "python3"
  },
  "language_info": {
   "codemirror_mode": {
    "name": "ipython",
    "version": 3
   },
   "file_extension": ".py",
   "mimetype": "text/x-python",
   "name": "python",
   "nbconvert_exporter": "python",
   "pygments_lexer": "ipython3",
   "version": "3.11.4"
  }
 },
 "nbformat": 4,
 "nbformat_minor": 5
}
